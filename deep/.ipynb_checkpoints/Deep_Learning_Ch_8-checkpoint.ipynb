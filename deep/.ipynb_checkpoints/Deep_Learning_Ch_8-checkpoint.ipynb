{
 "cells": [
  {
   "cell_type": "code",
   "execution_count": 3,
   "metadata": {},
   "outputs": [
    {
     "name": "stdout",
     "output_type": "stream",
     "text": [
      "Populating the interactive namespace from numpy and matplotlib\n"
     ]
    }
   ],
   "source": [
    "%pylab inline\n",
    "import torch\n",
    "import torch.nn.functional as F\n",
    "import numpy as np\n",
    "dtype = torch.float\n",
    "device = torch.device(\"cpu\")\n",
    "# device = torch.device(\"cuda:0\") # Uncomment this to run on GPU"
   ]
  },
  {
   "cell_type": "markdown",
   "metadata": {},
   "source": [
    "Notes from the [Deep Learning Book](https://www.deeplearningbook.org/)"
   ]
  },
  {
   "cell_type": "markdown",
   "metadata": {},
   "source": [
    "# Ch.8 Optimization for Training Deep Models"
   ]
  },
  {
   "cell_type": "markdown",
   "metadata": {},
   "source": [
    "### 8.1 How Learning Differs from Pure Optimization\n",
    "\n",
    "$$\\renewcommand\\vec{\\boldsymbol}$$\n",
    "\n",
    "... The simplest way to convert a machine learning problem back into an optimization problem is to minimize the expected loss on the training set. This means replacing the true distribution $p(\\vec x, y)$ with the empirical distribution $\\hat p (\\vec x, y)$ defined by the training set. We now minimize the **empirical risk**\n",
    "\n",
    "$$\\mathbb{E}_{\\vec x, y \\sim \\hat p (\\vec x, y)}[L(f(\\vec x; \\vec{\\theta}), y)] = \\frac 1 m \\sum_{i=1}^m L(f(\\vec x^{(i)}; \\vec{\\theta}), y^{(i)})$$\n",
    "\n",
    "One aspect of machine learning algorithms that separates them from general optimization algorithms is that the objective function usually decomposes as a sum over the training examples.\n",
    "\n",
    "Most algorithms used for deep learning fall somewhere in between using all the training examples at one time and using only one example at one time. This is traditionaly called **minibatch**."
   ]
  },
  {
   "cell_type": "code",
   "execution_count": 5,
   "metadata": {},
   "outputs": [
    {
     "name": "stdout",
     "output_type": "stream",
     "text": [
      "[[5.11502822]\n",
      " [6.86289417]\n",
      " [2.91206464]\n",
      " [6.93571393]] \n",
      "[[ 7.62209503]\n",
      " [12.33939802]\n",
      " [ 5.62443397]\n",
      " [ 8.44063388]]\n"
     ]
    },
    {
     "data": {
      "image/png": "[encoded data removed]",
      "text/plain": [
       "<matplotlib.figure.Figure at 0x111b3a110>"
      ]
     },
     "metadata": {},
     "output_type": "display_data"
    }
   ],
   "source": [
    "x = 10*np.random.rand(1024,1)\n",
    "y = x + np.random.randn(1024,1) + 2.5\n",
    "print x[:4],\"\\n\", y[:4]\n",
    "scatter(y[:,0], x[:,0]);"
   ]
  },
  {
   "cell_type": "code",
   "execution_count": 15,
   "metadata": {},
   "outputs": [
    {
     "name": "stdout",
     "output_type": "stream",
     "text": [
      "817.844604492\n",
      "419.670227051\n",
      "358.354705811\n",
      "394.368591309\n",
      "391.074798584\n",
      "343.042144775\n",
      "288.537231445\n",
      "344.297668457\n",
      "283.838287354\n",
      "346.11517334\n"
     ]
    }
   ],
   "source": [
    "# https://stackoverflow.com/questions/45113245/how-to-get-mini-batches-in-pytorch-in-a-clean-and-efficient-way\n",
    "\n",
    "model = torch.nn.Sequential(\n",
    "    torch.nn.Linear(1,1),\n",
    ")\n",
    "\n",
    "X = torch.tensor(x, device=device, dtype = dtype)\n",
    "Y = torch.tensor(y, device=device, dtype = dtype)\n",
    "loss_fn = torch.nn.MSELoss(reduction='sum')\n",
    "\n",
    "optimizer = torch.optim.SGD(model.parameters(), lr=1e-4)\n",
    "\n",
    "n_epochs = 10 # or whatever\n",
    "batch_size = 256 # or whatever\n",
    "\n",
    "for epoch in range(n_epochs):\n",
    "\n",
    "    permutation = torch.randperm(X.size()[0])\n",
    "\n",
    "    for i in range(0, X.size()[0], batch_size):\n",
    "        optimizer.zero_grad()\n",
    "\n",
    "        indices = permutation[i:i+batch_size]\n",
    "        batch_x, batch_y = X[indices], Y[indices]\n",
    "\n",
    "        outputs = model.forward(batch_x)\n",
    "        loss = loss_fn(outputs, batch_y)\n",
    "\n",
    "        loss.backward()\n",
    "        optimizer.step()\n",
    "    print loss.item()\n",
    "    "
   ]
  },
  {
   "cell_type": "markdown",
   "metadata": {
    "collapsed": true
   },
   "source": [
    "### 8.7.1 Batch Normalization\n",
    "\n",
    "https://pytorch.org/docs/stable/_modules/torch/nn/modules/batchnorm.html\n",
    "\n",
    "https://discuss.pytorch.org/t/example-on-how-to-use-batch-norm/216"
   ]
  },
  {
   "cell_type": "markdown",
   "metadata": {},
   "source": [
    "### 8.7.6 Continuation Methods and Curriculum Learning\n",
    "\n",
    "https://ronan.collobert.com/pub/matos/2009_curriculum_icml.pdf\n",
    "\n",
    "https://nlp.stanford.edu/pubs/babyfrog.pdf"
   ]
  },
  {
   "cell_type": "code",
   "execution_count": null,
   "metadata": {
    "collapsed": true
   },
   "outputs": [],
   "source": []
  }
 ],
 "metadata": {
  "kernelspec": {
   "display_name": "Python 2",
   "language": "python",
   "name": "python2"
  },
  "language_info": {
   "codemirror_mode": {
    "name": "ipython",
    "version": 2
   },
   "file_extension": ".py",
   "mimetype": "text/x-python",
   "name": "python",
   "nbconvert_exporter": "python",
   "pygments_lexer": "ipython2",
   "version": "2.7.13"
  }
 },
 "nbformat": 4,
 "nbformat_minor": 2
}
