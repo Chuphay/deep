{
 "cells": [
  {
   "cell_type": "code",
   "execution_count": 5,
   "metadata": {
    "collapsed": true
   },
   "outputs": [],
   "source": [
    "from gensim.models import Word2Vec\n",
    "import logging\n",
    "logging.basicConfig(format='%(asctime)s : %(levelname)s : %(message)s', level=logging.INFO)"
   ]
  },
  {
   "cell_type": "code",
   "execution_count": 15,
   "metadata": {
    "collapsed": true
   },
   "outputs": [],
   "source": [
    "sentences = [\"My dog ate the food\",\n",
    "             \"my cat ate the food\",\n",
    "             \"his cat drank the water\", \n",
    "             \"his dog drank the water\",\n",
    "             \"her cat drank the water\", \n",
    "             \"her fish drank the water\",\n",
    "             \"our fish ate the food\",\n",
    "             \"your fish drank the drink\",\n",
    "             \"our dog ate the food\",\n",
    "             \"your cat drank the drink\"]\n",
    "from gensim.utils import simple_preprocess"
   ]
  },
  {
   "cell_type": "code",
   "execution_count": 16,
   "metadata": {},
   "outputs": [
    {
     "name": "stdout",
     "output_type": "stream",
     "text": [
      "[[u'my', u'dog', u'ate', u'the', u'food'], [u'my', u'cat', u'ate', u'the', u'food'], [u'his', u'cat', u'drank', u'the', u'water'], [u'his', u'dog', u'drank', u'the', u'water'], [u'her', u'cat', u'drank', u'the', u'water'], [u'her', u'fish', u'drank', u'the', u'water'], [u'our', u'fish', u'ate', u'the', u'food'], [u'your', u'fish', u'drank', u'the', u'drink'], [u'our', u'dog', u'ate', u'the', u'food'], [u'your', u'cat', u'drank', u'the', u'drink']]\n"
     ]
    }
   ],
   "source": [
    "corpus = [simple_preprocess(sentence) for sentence in sentences]\n",
    "print corpus"
   ]
  },
  {
   "cell_type": "code",
   "execution_count": null,
   "metadata": {},
   "outputs": [],
   "source": [
    "model = Word2Vec(corpus, min_count = 1, window = 1, size = 10)"
   ]
  },
  {
   "cell_type": "code",
   "execution_count": 25,
   "metadata": {},
   "outputs": [
    {
     "data": {
      "image/png": "[encoded data removed]",
      "text/plain": [
       "<matplotlib.figure.Figure at 0x11c495090>"
      ]
     },
     "metadata": {},
     "output_type": "display_data"
    }
   ],
   "source": [
    "from sklearn.decomposition import PCA\n",
    "from matplotlib import pyplot\n",
    "\n",
    "# fit a 2d PCA model to the vectors\n",
    "X = model[model.wv.vocab]\n",
    "pca = PCA(n_components=2)\n",
    "result = pca.fit_transform(X)\n",
    "# create a scatter plot of the projection\n",
    "pyplot.scatter(result[:, 0], result[:, 1])\n",
    "words = list(model.wv.vocab)\n",
    "for i, word in enumerate(words):\n",
    "    pyplot.annotate(word, xy=(result[i, 0], result[i, 1]))\n",
    "pyplot.show()"
   ]
  },
  {
   "cell_type": "code",
   "execution_count": 26,
   "metadata": {
    "collapsed": true
   },
   "outputs": [],
   "source": [
    "from gensim.similarities import MatrixSimilarity"
   ]
  },
  {
   "cell_type": "code",
   "execution_count": 27,
   "metadata": {},
   "outputs": [
    {
     "data": {
      "text/plain": [
       "0.07568043293079896"
      ]
     },
     "execution_count": 27,
     "metadata": {},
     "output_type": "execute_result"
    }
   ],
   "source": [
    "model.similarity('cat', 'dog')"
   ]
  },
  {
   "cell_type": "code",
   "execution_count": 28,
   "metadata": {},
   "outputs": [
    {
     "name": "stderr",
     "output_type": "stream",
     "text": [
      "2018-08-31 16:17:22,736 : INFO : precomputing L2-norms of word weight vectors\n"
     ]
    },
    {
     "data": {
      "text/plain": [
       "[(u'water', 0.10871988534927368),\n",
       " (u'dog', 0.0756804347038269),\n",
       " (u'food', 0.07500990480184555),\n",
       " (u'ate', 0.04610908031463623),\n",
       " (u'fish', 0.04255908727645874),\n",
       " (u'his', 0.03978108987212181),\n",
       " (u'drink', 0.027882911264896393),\n",
       " (u'her', 0.01307593286037445),\n",
       " (u'your', -0.03175950422883034),\n",
       " (u'my', -0.03496883437037468)]"
      ]
     },
     "execution_count": 28,
     "metadata": {},
     "output_type": "execute_result"
    }
   ],
   "source": [
    "model.most_similar(\"cat\")"
   ]
  },
  {
   "cell_type": "code",
   "execution_count": 29,
   "metadata": {},
   "outputs": [
    {
     "data": {
      "text/plain": [
       "[(u'his', 0.16503803431987762),\n",
       " (u'my', 0.09841184318065643),\n",
       " (u'cat', 0.07568041980266571),\n",
       " (u'drank', 0.06507395207881927),\n",
       " (u'your', 0.04282555729150772),\n",
       " (u'fish', 0.03594748675823212),\n",
       " (u'food', -0.0029948391020298004),\n",
       " (u'water', -0.027580516412854195),\n",
       " (u'drink', -0.04820512235164642),\n",
       " (u'our', -0.08671340346336365)]"
      ]
     },
     "execution_count": 29,
     "metadata": {},
     "output_type": "execute_result"
    }
   ],
   "source": [
    "model.most_similar(\"dog\")"
   ]
  },
  {
   "cell_type": "code",
   "execution_count": null,
   "metadata": {
    "collapsed": true
   },
   "outputs": [],
   "source": []
  },
  {
   "cell_type": "code",
   "execution_count": null,
   "metadata": {
    "collapsed": true
   },
   "outputs": [],
   "source": []
  }
 ],
 "metadata": {
  "kernelspec": {
   "display_name": "Python 2",
   "language": "python",
   "name": "python2"
  },
  "language_info": {
   "codemirror_mode": {
    "name": "ipython",
    "version": 2
   },
   "file_extension": ".py",
   "mimetype": "text/x-python",
   "name": "python",
   "nbconvert_exporter": "python",
   "pygments_lexer": "ipython2",
   "version": "2.7.13"
  }
 },
 "nbformat": 4,
 "nbformat_minor": 2
}
