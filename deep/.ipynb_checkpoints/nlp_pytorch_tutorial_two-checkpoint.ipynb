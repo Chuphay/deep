{
 "cells": [
  {
   "cell_type": "markdown",
   "metadata": {},
   "source": [
    "# Word Embeddings\n",
    "\n",
    "https://pytorch.org/tutorials/beginner/nlp/word_embeddings_tutorial.html"
   ]
  },
  {
   "cell_type": "code",
   "execution_count": 2,
   "metadata": {
    "collapsed": true
   },
   "outputs": [],
   "source": [
    "# Author: Robert Guthrie\n",
    "\n",
    "import torch\n",
    "import torch.nn as nn\n",
    "import torch.nn.functional as F\n",
    "import torch.optim as optim\n",
    "\n",
    "torch.manual_seed(1);"
   ]
  },
  {
   "cell_type": "code",
   "execution_count": 3,
   "metadata": {},
   "outputs": [
    {
     "name": "stdout",
     "output_type": "stream",
     "text": [
      "tensor([[ 0.6614,  0.2669,  0.0617,  0.6213, -0.4519]], grad_fn=<EmbeddingBackward>)\n"
     ]
    }
   ],
   "source": [
    "word_to_ix = {\"hello\": 0, \"world\": 1}\n",
    "embeds = nn.Embedding(2, 5)  # 2 words in vocab, 5 dimensional embeddings\n",
    "lookup_tensor = torch.tensor([word_to_ix[\"hello\"]], dtype=torch.long)\n",
    "hello_embed = embeds(lookup_tensor)\n",
    "print hello_embed"
   ]
  },
  {
   "cell_type": "code",
   "execution_count": 7,
   "metadata": {},
   "outputs": [
    {
     "data": {
      "text/plain": [
       "tensor([ 0.6614,  0.2669,  0.0617,  0.6213, -0.4519], grad_fn=<EmbeddingBackward>)"
      ]
     },
     "execution_count": 7,
     "metadata": {},
     "output_type": "execute_result"
    }
   ],
   "source": [
    "embeds(torch.tensor(0))"
   ]
  },
  {
   "cell_type": "markdown",
   "metadata": {},
   "source": [
    "The Continuous Bag-of-Words model (CBOW) is frequently used in NLP deep learning. It is a model that tries to predict words given the context of a few words before and after the target word. Typically, CBOW is used to quickly train word embeddings, and these embeddings are used to initialize the embeddings of some more complicated model. Usually, this is referred to as pretraining embeddings. It almost always helps performance a couple of percent.\n",
    "\n",
    "The CBOW model is as follows. Given a target word $w_i$ and an $N$ context window on each side, $w_i,...,w_{i-N}$ and $w_{i+1},...,w_{i+N}$, referring to all context words collectively as $C$, CBOW tries to minimize\n",
    "\n",
    "$$-\\log p(w_i|C) = -\\log \\text{Softmax} \\left(A \\cdot \\left(\\sum_{w \\in C} q_w \\right) + b \\right)$$\n",
    "\n",
    "where $q_w$ is the embedding for word $w$\n",
    "\n",
    "...\n",
    "\n",
    "My understanding is that the softmax should then try to be the index of word $w_i$"
   ]
  },
  {
   "cell_type": "code",
   "execution_count": 145,
   "metadata": {},
   "outputs": [
    {
     "name": "stdout",
     "output_type": "stream",
     "text": [
      "['i like cats', 'i like dogs', 'we like cats', 'we like dogs']\n",
      "[(['like', 'cats'], 'i'), (['i', 'cats'], 'like'), (['like', 'i'], 'cats'), (['like', 'dogs'], 'i'), (['i', 'dogs'], 'like'), (['like', 'i'], 'dogs'), (['like', 'cats'], 'we'), (['we', 'cats'], 'like'), (['like', 'we'], 'cats'), (['like', 'dogs'], 'we'), (['we', 'dogs'], 'like'), (['like', 'we'], 'dogs')]\n",
      "0\n",
      "0.707748860598\n",
      "0.473636484218\n",
      "0.470310950851\n",
      "0.463544004107\n",
      "0.469343433285\n",
      "0.463169505358\n",
      "0.467262666368\n",
      "0.463991085815\n",
      "0.464555020761\n",
      "0.46814455781\n",
      "0.464821910238\n",
      "0.466449660206\n",
      "0.467577114058\n",
      "0.470020286322\n",
      "0.461448034382\n",
      "0.462875285292\n",
      "0.456222123384\n",
      "0.469007117796\n",
      "0.45284354043\n"
     ]
    }
   ],
   "source": [
    "raw_text = \"\"\"I like cats\n",
    "I like dogs\n",
    "we like cats\n",
    "we like dogs\"\"\".lower().split(\"\\n\") \n",
    "print raw_text\n",
    "\n",
    "data = []\n",
    "vocab = []\n",
    "for sentence in raw_text:\n",
    "    words = sentence.split()\n",
    "    for i, word in enumerate(words):\n",
    "        vocab.append(word)\n",
    "        if i == 0:\n",
    "            context = [words[i+1], words[i+2]]\n",
    "        elif i == len(words) - 1:\n",
    "            context = [words[i-1], words[i-2]]\n",
    "        else:\n",
    "            context = [words[i-1], words[i+1]]\n",
    "        data.append((context, word))\n",
    "        \n",
    "vocab = set(vocab)\n",
    "\n",
    "word_to_ix = {word: i for i, word in enumerate(vocab)}\n",
    "vocab_size = len(vocab)\n",
    "print data\n",
    "\n",
    "def make_context_vector(context, word_to_ix):\n",
    "    idxs = [word_to_ix[w] for w in context]\n",
    "    return torch.tensor(idxs, dtype=torch.long)\n",
    "\n",
    "\n",
    "class CBOW(nn.Module):\n",
    "\n",
    "    def __init__(self, vocab_size, embedding_dim):\n",
    "        super(CBOW, self).__init__()       \n",
    "        self.embeddings = nn.Embedding(vocab_size, embedding_dim)\n",
    "        #self.embeddings = nn.Embedding.from_pretrained(my_weights)\n",
    "        self.linear = nn.Linear(embedding_dim, vocab_size)\n",
    "\n",
    "    def forward(self, inputs):\n",
    "        embeds = self.embeddings(inputs)\n",
    "        return F.log_softmax(self.linear(embeds.sum(dim=0)).view(1,-1), dim=1)\n",
    "\n",
    "import random\n",
    "loss_fn = nn.NLLLoss()\n",
    "cbow = CBOW(vocab_size, 3)\n",
    "optimizer = optim.Adam(cbow.parameters(), lr=1e-3)\n",
    "total_losses = 0\n",
    "step_size = 5000\n",
    "for t in range(100000):\n",
    "    cbow.zero_grad()\n",
    "    r_c = random.choice(data)\n",
    "    c_v = make_context_vector(r_c[0], word_to_ix)\n",
    "    output = cbow(c_v)\n",
    "    loss = loss_fn(output, torch.tensor([word_to_ix[r_c[1]]]))\n",
    "    loss.backward()\n",
    "    optimizer.step()\n",
    "    \n",
    "    if t%step_size == 0:\n",
    "        print total_losses/step_size\n",
    "        total_losses = 0\n",
    "    total_losses += loss.item()  \n",
    "        "
   ]
  },
  {
   "cell_type": "code",
   "execution_count": 115,
   "metadata": {},
   "outputs": [
    {
     "name": "stdout",
     "output_type": "stream",
     "text": [
      "i -0.779573857784\n",
      "we -0.734702944756\n",
      "cats 1.0\n",
      "like 0.0177476629615\n",
      "dogs 0.995721817017\n"
     ]
    }
   ],
   "source": [
    "cbow.eval()\n",
    "with torch.no_grad():\n",
    "    process = torch.tensor([word_to_ix[\"cats\"]])\n",
    "    process_embed = cbow.embeddings(process)\n",
    "    cos = nn.CosineSimilarity(dim=1, eps=1e-6)\n",
    "    for word in word_to_ix:\n",
    "        other_embed = cbow.embeddings(torch.tensor([word_to_ix[word]]))\n",
    "        print word, cos(process_embed, other_embed).item()"
   ]
  },
  {
   "cell_type": "code",
   "execution_count": 117,
   "metadata": {},
   "outputs": [
    {
     "data": {
      "text/plain": [
       "Parameter containing:\n",
       "tensor([[-3.3615, -0.7423, -0.2105],\n",
       "        [-3.7016, -0.9870, -0.6369],\n",
       "        [ 3.2918,  2.3234, -2.1894],\n",
       "        [ 2.2512, -2.3888,  0.7248],\n",
       "        [ 2.8887,  2.5256, -2.1756]], requires_grad=True)"
      ]
     },
     "execution_count": 117,
     "metadata": {},
     "output_type": "execute_result"
    }
   ],
   "source": [
    "cbow.embeddings.weight"
   ]
  },
  {
   "cell_type": "code",
   "execution_count": 136,
   "metadata": {
    "collapsed": true
   },
   "outputs": [],
   "source": [
    "my_weights = torch.tensor([[-2.0,0,0],[-2,0,0],[2,2,-2],[2,-2,0],[2,2,-2]])"
   ]
  },
  {
   "cell_type": "code",
   "execution_count": 139,
   "metadata": {},
   "outputs": [
    {
     "name": "stdout",
     "output_type": "stream",
     "text": [
      "0\n",
      "0.79161856159\n",
      "0.474246563113\n",
      "0.471182758391\n",
      "0.459992285752\n",
      "0.463002798766\n",
      "0.465520760489\n",
      "0.468648498082\n",
      "0.462784547627\n",
      "0.467265071416\n"
     ]
    }
   ],
   "source": [
    "class CBOW(nn.Module):\n",
    "\n",
    "    def __init__(self, vocab_size, embedding_dim):\n",
    "        super(CBOW, self).__init__()       \n",
    "        # self.embeddings = nn.Embedding(vocab_size, embedding_dim)\n",
    "        self.embeddings = nn.Embedding.from_pretrained(my_weights)\n",
    "        self.linear = nn.Linear(embedding_dim, vocab_size)\n",
    "\n",
    "    def forward(self, inputs):\n",
    "        embeds = self.embeddings(inputs)\n",
    "        return F.log_softmax(self.linear(embeds.sum(dim=0)).view(1,-1), dim=1)\n",
    "\n",
    "import random\n",
    "loss_fn = nn.NLLLoss()\n",
    "cbow = CBOW(vocab_size, 3)\n",
    "optimizer = optim.Adam(cbow.parameters(), lr=1e-3)\n",
    "total_losses = 0\n",
    "step_size = 5000\n",
    "\n",
    "for t in range(50000):\n",
    "    cbow.zero_grad()\n",
    "    r_c = random.choice(data)\n",
    "    c_v = make_context_vector(r_c[0], word_to_ix)\n",
    "    output = cbow(c_v)\n",
    "    loss = loss_fn(output, torch.tensor([word_to_ix[r_c[1]]]))\n",
    "    loss.backward()\n",
    "    optimizer.step()\n",
    "    \n",
    "    if t%step_size == 0:\n",
    "        print total_losses/step_size\n",
    "        total_losses = 0\n",
    "    total_losses += loss.item()  \n",
    "        "
   ]
  },
  {
   "cell_type": "code",
   "execution_count": 138,
   "metadata": {},
   "outputs": [
    {
     "data": {
      "text/plain": [
       "Parameter containing:\n",
       "tensor([[-2.,  0.,  0.],\n",
       "        [-2.,  0.,  0.],\n",
       "        [ 2.,  2., -2.],\n",
       "        [ 2., -2.,  0.],\n",
       "        [ 2.,  2., -2.]], requires_grad=True)"
      ]
     },
     "execution_count": 138,
     "metadata": {},
     "output_type": "execute_result"
    }
   ],
   "source": [
    "cbow.embeddings.weight"
   ]
  },
  {
   "cell_type": "code",
   "execution_count": 156,
   "metadata": {},
   "outputs": [
    {
     "name": "stdout",
     "output_type": "stream",
     "text": [
      "[(['When', 'forty'], 'winters'), (['forty', 'winters'], 'shall'), (['winters', 'shall'], 'besiege')]\n",
      "[530.6794657707214, 528.4181003570557, 526.1691706180573, 523.9320974349976, 521.7055933475494, 519.4902567863464, 517.2831115722656, 515.0839352607727, 512.891900062561, 510.70729088783264]\n"
     ]
    }
   ],
   "source": [
    "CONTEXT_SIZE = 2\n",
    "EMBEDDING_DIM = 10\n",
    "# We will use Shakespeare Sonnet 2\n",
    "test_sentence = \"\"\"When forty winters shall besiege thy brow,\n",
    "And dig deep trenches in thy beauty's field,\n",
    "Thy youth's proud livery so gazed on now,\n",
    "Will be a totter'd weed of small worth held:\n",
    "Then being asked, where all thy beauty lies,\n",
    "Where all the treasure of thy lusty days;\n",
    "To say, within thine own deep sunken eyes,\n",
    "Were an all-eating shame, and thriftless praise.\n",
    "How much more praise deserv'd thy beauty's use,\n",
    "If thou couldst answer 'This fair child of mine\n",
    "Shall sum my count, and make my old excuse,'\n",
    "Proving his beauty by succession thine!\n",
    "This were to be new made when thou art old,\n",
    "And see thy blood warm when thou feel'st it cold.\"\"\".split()\n",
    "# we should tokenize the input, but we will ignore that for now\n",
    "# build a list of tuples.  Each tuple is ([ word_i-2, word_i-1 ], target word)\n",
    "\n",
    "trigrams = [([test_sentence[i], test_sentence[i + 1]], test_sentence[i + 2])\n",
    "            for i in range(len(test_sentence) - 2)]\n",
    "# print the first 3, just so you can see what they look like\n",
    "print(trigrams[:3])\n",
    "\n",
    "vocab = set(test_sentence)\n",
    "word_to_ix = {word: i+1 for i, word in enumerate(vocab)}\n",
    "word_to_ix[\"SPACE\"] = 0\n",
    "trigrams.append(([\"SPACE\",\"SPACE\"],\"When\"))\n",
    "trigrams.append(([\"SPACE\", \"When\"], \"forty\"))\n",
    "\n",
    "class NGramLanguageModeler(nn.Module):\n",
    "\n",
    "    def __init__(self, vocab_size, embedding_dim, context_size):\n",
    "        super(NGramLanguageModeler, self).__init__()\n",
    "        self.embeddings = nn.Embedding(vocab_size, embedding_dim, padding_idx=0)\n",
    "        self.linear1 = nn.Linear(context_size * embedding_dim, 128)\n",
    "        self.linear2 = nn.Linear(128, vocab_size)\n",
    "\n",
    "    def forward(self, inputs):\n",
    "        embeds = self.embeddings(inputs).view((1, -1))\n",
    "        out = F.relu(self.linear1(embeds))\n",
    "        out = self.linear2(out)\n",
    "        log_probs = F.log_softmax(out, dim=1)\n",
    "        return log_probs\n",
    "\n",
    "\n",
    "losses = []\n",
    "loss_function = nn.NLLLoss()\n",
    "model = NGramLanguageModeler(len(vocab)+1, EMBEDDING_DIM, CONTEXT_SIZE)\n",
    "optimizer = optim.SGD(model.parameters(), lr=0.001)\n",
    "\n",
    "for epoch in range(10):\n",
    "    total_loss = 0\n",
    "    for context, target in trigrams:\n",
    "\n",
    "        # Step 1. Prepare the inputs to be passed to the model (i.e, turn the words\n",
    "        # into integer indices and wrap them in tensors)\n",
    "        context_idxs = torch.tensor([word_to_ix[w] for w in context], dtype=torch.long)\n",
    "\n",
    "        # Step 2. Recall that torch *accumulates* gradients. Before passing in a\n",
    "        # new instance, you need to zero out the gradients from the old\n",
    "        # instance\n",
    "        model.zero_grad()\n",
    "\n",
    "        # Step 3. Run the forward pass, getting log probabilities over next\n",
    "        # words\n",
    "        log_probs = model(context_idxs)\n",
    "\n",
    "        # Step 4. Compute your loss function. (Again, Torch wants the target\n",
    "        # word wrapped in a tensor)\n",
    "        # print len(context_idxs), target, log_probs\n",
    "        loss = loss_function(log_probs, torch.tensor([word_to_ix[target]], dtype=torch.long))\n",
    "\n",
    "        # Step 5. Do the backward pass and update the gradient\n",
    "        loss.backward()\n",
    "        optimizer.step()\n",
    "\n",
    "        # Get the Python number from a 1-element Tensor by calling tensor.item()\n",
    "        total_loss += loss.item()\n",
    "    losses.append(total_loss)\n",
    "print(losses)  # The loss decreased every iteration over the training data!"
   ]
  },
  {
   "cell_type": "code",
   "execution_count": null,
   "metadata": {
    "collapsed": true
   },
   "outputs": [],
   "source": []
  }
 ],
 "metadata": {
  "kernelspec": {
   "display_name": "Python 2",
   "language": "python",
   "name": "python2"
  },
  "language_info": {
   "codemirror_mode": {
    "name": "ipython",
    "version": 2
   },
   "file_extension": ".py",
   "mimetype": "text/x-python",
   "name": "python",
   "nbconvert_exporter": "python",
   "pygments_lexer": "ipython2",
   "version": "2.7.13"
  }
 },
 "nbformat": 4,
 "nbformat_minor": 2
}
