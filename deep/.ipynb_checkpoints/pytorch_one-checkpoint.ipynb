{
 "cells": [
  {
   "cell_type": "code",
   "execution_count": 1,
   "metadata": {
    "collapsed": true
   },
   "outputs": [],
   "source": [
    "import numpy as np"
   ]
  },
  {
   "cell_type": "code",
   "execution_count": 2,
   "metadata": {
    "collapsed": true
   },
   "outputs": [],
   "source": [
    "#https://pytorch.org/tutorials/beginner/pytorch_with_examples.html"
   ]
  },
  {
   "cell_type": "code",
   "execution_count": 3,
   "metadata": {
    "collapsed": true
   },
   "outputs": [],
   "source": [
    "N, D_in, H, D_out = 64, 1000, 100, 1\n",
    "\n",
    "# Create random input and output data\n",
    "x = np.random.randn(N, D_in)\n",
    "y = np.array([np.sum(x, axis=1)]).T\n",
    "\n",
    "# Randomly initialize weights\n",
    "w1 = np.random.randn(D_in, H)\n",
    "w2 = np.random.randn(H, D_out)"
   ]
  },
  {
   "cell_type": "code",
   "execution_count": 4,
   "metadata": {},
   "outputs": [
    {
     "data": {
      "text/plain": [
       "array([-16.81214661,  63.43331031, -30.11298366, -15.99777578,\n",
       "       -37.89345025])"
      ]
     },
     "execution_count": 4,
     "metadata": {},
     "output_type": "execute_result"
    }
   ],
   "source": [
    "y[:,0][:5]"
   ]
  },
  {
   "cell_type": "code",
   "execution_count": 5,
   "metadata": {},
   "outputs": [
    {
     "name": "stdout",
     "output_type": "stream",
     "text": [
      "0 2931687.0931147994\n",
      "25 11025.313264349254\n",
      "50 704.8506790624699\n",
      "75 54.58659054862747\n",
      "100 4.584337325208587\n",
      "125 0.40398596588295244\n",
      "150 0.03691188800463184\n",
      "175 0.0034834734360802335\n",
      "200 0.00034079533700742605\n",
      "225 3.4592504676815905e-05\n",
      "250 3.642108389390279e-06\n",
      "275 3.976237743989936e-07\n",
      "300 4.491794063816992e-08\n",
      "325 5.233035473884851e-09\n",
      "350 6.258896035202688e-10\n",
      "375 7.650478491147152e-11\n",
      "400 9.51595995633827e-12\n",
      "425 1.1999778265914711e-12\n",
      "450 1.5296750978969234e-13\n",
      "475 1.9665125447343667e-14\n"
     ]
    }
   ],
   "source": [
    "\n",
    "def backprop_numpy(x, y, w1, w2, learning_rate = 1e-6, iterations = 500):\n",
    "    w1 = w1.copy()\n",
    "    w2 = w2.copy()\n",
    "    for t in range(iterations):\n",
    "        # Forward pass: compute predicted y\n",
    "        h = x.dot(w1)\n",
    "        h_relu = np.maximum(h, 0)\n",
    "        y_pred = h_relu.dot(w2)\n",
    "\n",
    "        # Compute and print loss\n",
    "        loss = np.square(y_pred - y).sum()\n",
    "        if t%25 == 0: \n",
    "            print t, loss\n",
    "\n",
    "        # Backprop to compute gradients of w1 and w2 with respect to loss\n",
    "        grad_y_pred = 2.0 * (y_pred - y)\n",
    "        grad_w2 = h_relu.T.dot(grad_y_pred)\n",
    "        grad_h_relu = grad_y_pred.dot(w2.T)\n",
    "        grad_h = grad_h_relu\n",
    "        grad_h[h < 0] = 0\n",
    "        grad_w1 = x.T.dot(grad_h)\n",
    "        # Update weights\n",
    "        w1 -= learning_rate * grad_w1\n",
    "        w2 -= learning_rate * grad_w2\n",
    "        \n",
    "        \n",
    "\n",
    "backprop_numpy(x,y,w1,w2)"
   ]
  },
  {
   "cell_type": "code",
   "execution_count": 6,
   "metadata": {
    "collapsed": true
   },
   "outputs": [],
   "source": [
    "#https://ml-cheatsheet.readthedocs.io/en/latest/forwardpropagation.html"
   ]
  },
  {
   "cell_type": "code",
   "execution_count": 7,
   "metadata": {
    "collapsed": true
   },
   "outputs": [],
   "source": [
    "def relu(z):\n",
    "    return np.maximum(0,z)\n",
    "\n",
    "def feed_forward(x, w1, w2):\n",
    "    # Hidden layer\n",
    "    Zh = np.dot(x, w1)\n",
    "    H = relu(Zh)\n",
    "\n",
    "    # Output layer\n",
    "    prediction = np.dot(H, w2)\n",
    "    return prediction"
   ]
  },
  {
   "cell_type": "code",
   "execution_count": 8,
   "metadata": {},
   "outputs": [
    {
     "data": {
      "text/plain": [
       "array([376.00512671, 345.30534599, -55.24607577, 145.61110316,\n",
       "       482.88286753])"
      ]
     },
     "execution_count": 8,
     "metadata": {},
     "output_type": "execute_result"
    }
   ],
   "source": [
    "feed_forward(x, w1, w2)[:,0][:5]"
   ]
  },
  {
   "cell_type": "code",
   "execution_count": 9,
   "metadata": {},
   "outputs": [
    {
     "name": "stdout",
     "output_type": "stream",
     "text": [
      "0 2931687.0931147994\n",
      "25 11025.313264349239\n",
      "50 704.850679062471\n",
      "75 54.5865905486278\n",
      "100 4.584337325208547\n",
      "125 0.4039859658828533\n",
      "150 0.03691188800458872\n",
      "175 0.0034834734360745297\n",
      "200 0.00034079533700559993\n",
      "225 3.459250467675314e-05\n",
      "250 3.642108389412839e-06\n",
      "275 3.9762377439754667e-07\n",
      "300 4.491794061724478e-08\n",
      "325 5.2330354686945186e-09\n",
      "350 6.25889605349028e-10\n",
      "375 7.650478422533618e-11\n",
      "400 9.515959874516949e-12\n",
      "425 1.1999777900439918e-12\n",
      "450 1.5296756132026948e-13\n",
      "475 1.9665134845742937e-14\n",
      "\n",
      "0 2931687.0931147994\n",
      "25 11025.313264349254\n",
      "50 704.8506790624699\n",
      "75 54.58659054862747\n",
      "100 4.584337325208587\n",
      "125 0.40398596588295244\n",
      "150 0.03691188800463184\n",
      "175 0.0034834734360802335\n",
      "200 0.00034079533700742605\n",
      "225 3.4592504676815905e-05\n",
      "250 3.642108389390279e-06\n",
      "275 3.976237743989936e-07\n",
      "300 4.491794063816992e-08\n",
      "325 5.233035473884851e-09\n",
      "350 6.258896035202688e-10\n",
      "375 7.650478491147152e-11\n",
      "400 9.51595995633827e-12\n",
      "425 1.1999778265914711e-12\n",
      "450 1.5296750978969234e-13\n",
      "475 1.9665125447343667e-14\n"
     ]
    }
   ],
   "source": [
    "def relu_prime(z):\n",
    "    z[z>0] = 1\n",
    "    z[z<=0] = 0\n",
    "    return z\n",
    "\n",
    "\n",
    "def cost(yHat, y):\n",
    "    return  ((yHat - y)**2).sum()\n",
    "\n",
    "def cost_prime(yHat, y):\n",
    "    return 2*(yHat - y)\n",
    "\n",
    "def backprop(x, y, w_hidden, w_output, lr = 1e-6, iterations = 500):\n",
    "    w_hidden = w_hidden.copy()\n",
    "    w_output = w_output.copy()\n",
    "    for i in range(iterations):\n",
    "        Zh = np.dot(x, w_hidden)\n",
    "        H = relu(Zh)\n",
    "        # Output layer\n",
    "        yHat = np.dot(H, w_output)\n",
    "\n",
    "        # Layer Error\n",
    "        if i%25 == 0: \n",
    "            print i, cost(yHat,y)\n",
    "        Eo = cost_prime(yHat,y)\n",
    "\n",
    "        Eh = np.dot(Eo, w_output.T)*relu_prime(Zh)\n",
    "\n",
    "        # Cost derivative for weights\n",
    "        dWo = np.dot(Eo.T, H).T\n",
    "        dWh = np.dot(Eh.T, x).T\n",
    "\n",
    "        # Update weights\n",
    "        w_hidden -= lr * dWh\n",
    "        w_output -= lr * dWo\n",
    "\n",
    "backprop(x,y,w1,w2)\n",
    "print\n",
    "backprop_numpy(x,y,w1,w2)"
   ]
  },
  {
   "cell_type": "code",
   "execution_count": 10,
   "metadata": {
    "collapsed": true
   },
   "outputs": [],
   "source": [
    "import torch\n",
    "\n",
    "\n",
    "dtype = torch.float\n",
    "device = torch.device(\"cpu\")\n",
    "# device = torch.device(\"cuda:0\") # Uncomment this to run on GPU"
   ]
  },
  {
   "cell_type": "code",
   "execution_count": 11,
   "metadata": {},
   "outputs": [
    {
     "name": "stdout",
     "output_type": "stream",
     "text": [
      "0 2931686.75\n",
      "25 11025.3076172\n",
      "50 704.838317871\n",
      "75 54.585193634\n",
      "100 4.58413743973\n",
      "125 0.403986006975\n",
      "150 0.0369503945112\n",
      "175 0.00357747706585\n",
      "200 0.000459823611891\n",
      "225 0.000104585691588\n",
      "250 3.68825276382e-05\n",
      "275 1.66584795807e-05\n",
      "300 9.07837511477e-06\n",
      "325 5.60935586691e-06\n",
      "350 3.82332063964e-06\n",
      "375 2.8110389394e-06\n",
      "400 2.22174026021e-06\n",
      "425 1.7269418322e-06\n",
      "450 1.48425442603e-06\n",
      "475 1.31212118504e-06\n"
     ]
    }
   ],
   "source": [
    "x_t = torch.tensor(x, device=device, dtype = dtype)\n",
    "y_t = torch.tensor(y, device=device, dtype = dtype)\n",
    "# Randomly initialize weights\n",
    "\n",
    "w1_t = torch.tensor(w1, device=device, dtype = dtype)\n",
    "w2_t = torch.tensor(w2, device=device, dtype = dtype)\n",
    "\n",
    "learning_rate = 1e-6\n",
    "for t in range(500):\n",
    "    # Forward pass: compute predicted y\n",
    "    h = x_t.mm(w1_t)\n",
    "    h_relu = h.clamp(min=0)\n",
    "    y_pred = h_relu.mm(w2_t)\n",
    "\n",
    "    # Compute and print loss\n",
    "    loss = (y_pred - y_t).pow(2).sum().item()\n",
    "    if t%25 == 0: \n",
    "        print t, loss\n",
    "\n",
    "    # Backprop to compute gradients of w1 and w2 with respect to loss\n",
    "    grad_y_pred = 2.0 * (y_pred - y_t)\n",
    "    grad_w2 = h_relu.t().mm(grad_y_pred)\n",
    "    grad_h_relu = grad_y_pred.mm(w2_t.t())\n",
    "    grad_h = grad_h_relu.clone()\n",
    "    grad_h[h < 0] = 0\n",
    "    grad_w1 = x_t.t().mm(grad_h)\n",
    "\n",
    "    # Update weights using gradient descent\n",
    "    w1_t -= learning_rate * grad_w1\n",
    "    w2_t -= learning_rate * grad_w2"
   ]
  },
  {
   "cell_type": "code",
   "execution_count": 12,
   "metadata": {},
   "outputs": [
    {
     "name": "stdout",
     "output_type": "stream",
     "text": [
      "0 2931686.75\n",
      "25 11025.3076172\n",
      "50 704.838317871\n",
      "75 54.585193634\n",
      "100 4.58413743973\n",
      "125 0.403986006975\n",
      "150 0.0369503945112\n",
      "175 0.00357747706585\n",
      "200 0.000459823611891\n",
      "225 0.000104585691588\n",
      "250 3.68825276382e-05\n",
      "275 1.66584795807e-05\n",
      "300 9.07837511477e-06\n",
      "325 5.60935586691e-06\n",
      "350 3.82332063964e-06\n",
      "375 2.8110389394e-06\n",
      "400 2.22174026021e-06\n",
      "425 1.7269418322e-06\n",
      "450 1.48425442603e-06\n",
      "475 1.31212118504e-06\n"
     ]
    }
   ],
   "source": [
    "x_t = torch.tensor(x, device=device, dtype = dtype)\n",
    "y_t = torch.tensor(y, device=device, dtype = dtype)\n",
    "# Randomly initialize weights\n",
    "\n",
    "w1_t = torch.tensor(w1, device=device, dtype = dtype, requires_grad=True)\n",
    "w2_t = torch.tensor(w2, device=device, dtype = dtype, requires_grad=True)\n",
    "\n",
    "learning_rate = 1e-6\n",
    "for t in range(500):\n",
    "    # Forward pass: compute predicted y using operations on Tensors; these\n",
    "    # are exactly the same operations we used to compute the forward pass using\n",
    "    # Tensors, but we do not need to keep references to intermediate values since\n",
    "    # we are not implementing the backward pass by hand.\n",
    "    y_pred = x_t.mm(w1_t).clamp(min=0).mm(w2_t)\n",
    "\n",
    "    # Compute and print loss using operations on Tensors.\n",
    "    # Now loss is a Tensor of shape (1,)\n",
    "    # loss.item() gets the a scalar value held in the loss.\n",
    "    loss = (y_pred - y_t).pow(2).sum()\n",
    "    if t%25 == 0: \n",
    "        print t, loss.item()\n",
    "\n",
    "    # Use autograd to compute the backward pass. This call will compute the\n",
    "    # gradient of loss with respect to all Tensors with requires_grad=True.\n",
    "    # After this call w1.grad and w2.grad will be Tensors holding the gradient\n",
    "    # of the loss with respect to w1 and w2 respectively.\n",
    "    loss.backward()\n",
    "\n",
    "    # Manually update weights using gradient descent. Wrap in torch.no_grad()\n",
    "    # because weights have requires_grad=True, but we don't need to track this\n",
    "    # in autograd.\n",
    "    # An alternative way is to operate on weight.data and weight.grad.data.\n",
    "    # Recall that tensor.data gives a tensor that shares the storage with\n",
    "    # tensor, but doesn't track history.\n",
    "    # You can also use torch.optim.SGD to achieve this.\n",
    "    with torch.no_grad():\n",
    "        w1_t -= learning_rate * w1_t.grad\n",
    "        w2_t -= learning_rate * w2_t.grad\n",
    "\n",
    "        # Manually zero the gradients after updating weights\n",
    "        w1_t.grad.zero_()\n",
    "        w2_t.grad.zero_()"
   ]
  },
  {
   "cell_type": "code",
   "execution_count": 13,
   "metadata": {
    "collapsed": true
   },
   "outputs": [],
   "source": [
    "class MyReLU(torch.autograd.Function):\n",
    "    \"\"\"\n",
    "    We can implement our own custom autograd Functions by subclassing\n",
    "    torch.autograd.Function and implementing the forward and backward passes\n",
    "    which operate on Tensors.\n",
    "    \"\"\"\n",
    "\n",
    "    @staticmethod\n",
    "    def forward(ctx, input):\n",
    "        \"\"\"\n",
    "        In the forward pass we receive a Tensor containing the input and return\n",
    "        a Tensor containing the output. ctx is a context object that can be used\n",
    "        to stash information for backward computation. You can cache arbitrary\n",
    "        objects for use in the backward pass using the ctx.save_for_backward method.\n",
    "        \"\"\"\n",
    "        ctx.save_for_backward(input)\n",
    "        return input.clamp(min=0)\n",
    "\n",
    "    @staticmethod\n",
    "    def backward(ctx, grad_output):\n",
    "        \"\"\"\n",
    "        In the backward pass we receive a Tensor containing the gradient of the loss\n",
    "        with respect to the output, and we need to compute the gradient of the loss\n",
    "        with respect to the input.\n",
    "        \"\"\"\n",
    "        input, = ctx.saved_tensors\n",
    "        grad_input = grad_output.clone()\n",
    "        grad_input[input < 0] = 0\n",
    "        return grad_input"
   ]
  },
  {
   "cell_type": "code",
   "execution_count": 14,
   "metadata": {},
   "outputs": [
    {
     "name": "stdout",
     "output_type": "stream",
     "text": [
      "0 2931686.75 2931687.0\n",
      "25 11025.3076172 11025.3076172\n",
      "50 704.838317871 704.838439941\n",
      "75 54.585193634 54.5851860046\n",
      "100 4.58413743973 4.58413743973\n",
      "125 0.403986006975 0.403986006975\n",
      "150 0.0369503945112 0.0369503907859\n",
      "175 0.00357747706585 0.00357747729868\n",
      "200 0.000459823611891 0.000459823582787\n",
      "225 0.000104585691588 0.000104585698864\n",
      "250 3.68825276382e-05 3.68825240002e-05\n",
      "275 1.66584795807e-05 1.66584795807e-05\n",
      "300 9.07837511477e-06 9.07837602426e-06\n",
      "325 5.60935586691e-06 5.60935586691e-06\n",
      "350 3.82332063964e-06 3.82332018489e-06\n",
      "375 2.8110389394e-06 2.81103916677e-06\n",
      "400 2.22174026021e-06 2.22174026021e-06\n",
      "425 1.7269418322e-06 1.7269418322e-06\n",
      "450 1.48425442603e-06 1.48425453972e-06\n",
      "475 1.31212118504e-06 1.31212118504e-06\n"
     ]
    }
   ],
   "source": [
    "w1_t = torch.tensor(w1, device=device, dtype = dtype, requires_grad=True)\n",
    "w2_t = torch.tensor(w2, device=device, dtype = dtype, requires_grad=True)\n",
    "loss_fn = torch.nn.MSELoss(reduction='sum')\n",
    "learning_rate = 1e-6\n",
    "for t in range(500):\n",
    "    # To apply our Function, we use Function.apply method. We alias this as 'relu'.\n",
    "    relu = MyReLU.apply\n",
    "\n",
    "    # Forward pass: compute predicted y using operations; we compute\n",
    "    # ReLU using our custom autograd operation.\n",
    "    y_pred = relu(x_t.mm(w1_t)).mm(w2_t)\n",
    "\n",
    "    # Compute and print loss\n",
    "    loss = (y_pred - y_t).pow(2).sum()\n",
    "    if t%25 == 0: \n",
    "        loss_other = loss_fn(y_pred, y_t)\n",
    "        print t, loss.item(), loss_other.item()\n",
    "\n",
    "    # Use autograd to compute the backward pass.\n",
    "    loss.backward()\n",
    "\n",
    "    # Update weights using gradient descent\n",
    "    with torch.no_grad():\n",
    "        w1_t -= learning_rate * w1_t.grad\n",
    "        w2_t -= learning_rate * w2_t.grad\n",
    "\n",
    "        # Manually zero the gradients after updating weights\n",
    "        w1_t.grad.zero_()\n",
    "        w2_t.grad.zero_()"
   ]
  },
  {
   "cell_type": "code",
   "execution_count": 15,
   "metadata": {},
   "outputs": [
    {
     "name": "stdout",
     "output_type": "stream",
     "text": [
      "0 59030.7890625\n",
      "25 331.591674805\n",
      "50 347.495849609\n",
      "75 131.317733765\n",
      "100 64.0915679932\n",
      "125 27.1185035706\n",
      "150 13.235871315\n",
      "175 6.00596237183\n",
      "200 2.89607429504\n",
      "225 1.34787130356\n",
      "250 0.645911574364\n",
      "275 0.304044306278\n",
      "300 0.144949376583\n",
      "325 0.0685587823391\n",
      "350 0.0326169840991\n",
      "375 0.0154535165057\n",
      "400 0.00733995297924\n",
      "425 0.00347711169161\n",
      "450 0.00165378209203\n",
      "475 0.000785832933616\n"
     ]
    }
   ],
   "source": [
    "model = torch.nn.Sequential(\n",
    "    torch.nn.Linear(D_in, H),\n",
    "    torch.nn.ReLU(),\n",
    "    torch.nn.Linear(H, D_out),\n",
    ")\n",
    "\n",
    "# The nn package also contains definitions of popular loss functions; in this\n",
    "# case we will use Mean Squared Error (MSE) as our loss function.\n",
    "loss_fn = torch.nn.MSELoss(reduction='sum')\n",
    "\n",
    "learning_rate = 1e-4\n",
    "for t in range(500):\n",
    "    # Forward pass: compute predicted y by passing x to the model. Module objects\n",
    "    # override the __call__ operator so you can call them like functions. When\n",
    "    # doing so you pass a Tensor of input data to the Module and it produces\n",
    "    # a Tensor of output data.\n",
    "    y_pred = model(x_t)\n",
    "\n",
    "    # Compute and print loss. We pass Tensors containing the predicted and true\n",
    "    # values of y, and the loss function returns a Tensor containing the\n",
    "    # loss.\n",
    "    loss = loss_fn(y_pred, y_t)\n",
    "    if t%25 == 0: \n",
    "        print t, loss.item()\n",
    "\n",
    "    # Zero the gradients before running the backward pass.\n",
    "    model.zero_grad()\n",
    "\n",
    "    # Backward pass: compute gradient of the loss with respect to all the learnable\n",
    "    # parameters of the model. Internally, the parameters of each Module are stored\n",
    "    # in Tensors with requires_grad=True, so this call will compute gradients for\n",
    "    # all learnable parameters in the model.\n",
    "    loss.backward()\n",
    "\n",
    "    # Update the weights using gradient descent. Each parameter is a Tensor, so\n",
    "    # we can access its gradients like we did before.\n",
    "    with torch.no_grad():\n",
    "        for param in model.parameters():\n",
    "            param -= learning_rate * param.grad"
   ]
  },
  {
   "cell_type": "code",
   "execution_count": 16,
   "metadata": {},
   "outputs": [
    {
     "name": "stdout",
     "output_type": "stream",
     "text": [
      "0 59058.3867188\n",
      "25 234.900405884\n",
      "50 42.7491378784\n",
      "75 5.22825193405\n",
      "100 0.643084526062\n",
      "125 0.0781154930592\n",
      "150 0.00952059030533\n",
      "175 0.00115811789874\n",
      "200 0.000140730466228\n",
      "225 1.70790754055e-05\n",
      "250 2.00380077331e-06\n",
      "275 1.99203086027e-07\n",
      "300 1.42790979041e-08\n",
      "325 6.08520567269e-10\n",
      "350 3.99294819431e-10\n",
      "375 2.88254087266e-10\n",
      "400 8.48112691187e-11\n",
      "425 2.24336105248e-11\n",
      "450 4.74269512551e-11\n",
      "475 5.06803488065e-11\n"
     ]
    }
   ],
   "source": [
    "model = torch.nn.Sequential(\n",
    "    torch.nn.Linear(D_in, H),\n",
    "    torch.nn.ReLU(),\n",
    "    torch.nn.Linear(H, D_out),\n",
    ")\n",
    "loss_fn = torch.nn.MSELoss(reduction='sum')\n",
    "\n",
    "# Use the optim package to define an Optimizer that will update the weights of\n",
    "# the model for us. Here we will use Adam; the optim package contains many other\n",
    "# optimization algoriths. The first argument to the Adam constructor tells the\n",
    "# optimizer which Tensors it should update.\n",
    "learning_rate = 1e-4\n",
    "# optimizer = torch.optim.Adam(model.parameters(), lr=learning_rate) #converges very slowly\n",
    "optimizer = torch.optim.SGD(model.parameters(), lr=learning_rate)\n",
    "for t in range(500):\n",
    "    # Forward pass: compute predicted y by passing x to the model.\n",
    "    y_pred = model(x_t)\n",
    "\n",
    "    # Compute and print loss.\n",
    "    loss = loss_fn(y_pred, y_t)\n",
    "    if t%25 == 0: \n",
    "        print t, loss.item()\n",
    "\n",
    "    # Before the backward pass, use the optimizer object to zero all of the\n",
    "    # gradients for the variables it will update (which are the learnable\n",
    "    # weights of the model). This is because by default, gradients are\n",
    "    # accumulated in buffers( i.e, not overwritten) whenever .backward()\n",
    "    # is called. Checkout docs of torch.autograd.backward for more details.\n",
    "    optimizer.zero_grad()\n",
    "\n",
    "    # Backward pass: compute gradient of the loss with respect to model\n",
    "    # parameters\n",
    "    loss.backward()\n",
    "\n",
    "    # Calling the step function on an Optimizer makes an update to its\n",
    "    # parameters\n",
    "    optimizer.step()"
   ]
  },
  {
   "cell_type": "code",
   "execution_count": null,
   "metadata": {
    "collapsed": true
   },
   "outputs": [],
   "source": []
  }
 ],
 "metadata": {
  "kernelspec": {
   "display_name": "Python 2",
   "language": "python",
   "name": "python2"
  },
  "language_info": {
   "codemirror_mode": {
    "name": "ipython",
    "version": 2
   },
   "file_extension": ".py",
   "mimetype": "text/x-python",
   "name": "python",
   "nbconvert_exporter": "python",
   "pygments_lexer": "ipython2",
   "version": "2.7.13"
  }
 },
 "nbformat": 4,
 "nbformat_minor": 2
}
