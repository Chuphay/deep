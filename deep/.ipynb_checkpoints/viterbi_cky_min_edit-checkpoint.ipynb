{
 "cells": [
  {
   "cell_type": "markdown",
   "metadata": {},
   "source": [
    "# Minimum Edit Distance"
   ]
  },
  {
   "cell_type": "code",
   "execution_count": 25,
   "metadata": {},
   "outputs": [
    {
     "data": {
      "text/plain": [
       "[[0, 1, 2, 3, 4, 5], [1, 0, 1, 2, 3, 4], [2, 1, 2, 3, 4, 5]]"
      ]
     },
     "execution_count": 25,
     "metadata": {},
     "output_type": "execute_result"
    }
   ],
   "source": [
    "def del_cost(letter):\n",
    "    return 1\n",
    "    \n",
    "def ins_cost(letter):\n",
    "    return 1\n",
    "\n",
    "def sub_cost(letter1, letter2):\n",
    "    if letter1 == letter2:\n",
    "        return 0\n",
    "    return 2\n",
    "\n",
    "def min_edit(word1, word2, del_cost, ins_cost, sub_cost):\n",
    "    the_matrix = [[-1 for i in range(len(word2)+1)] for j in range(len(word1)+1)]\n",
    "    back_pointers = [[None for i in range(len(word2)+1)] for j in range(len(word1)+1)]\n",
    "    for i in range(len(word1)+1):\n",
    "        the_matrix[i][0] = i\n",
    "    for j in range(len(word2) + 1):\n",
    "        the_matrix[0][j] = j\n",
    "        \n",
    "    for i in range(1, len(word1)+1):\n",
    "        for j in range(1, len(word2)+1):\n",
    "            insertion_cost = the_matrix[i-1][j]+ins_cost(word1[i-1])\n",
    "            deletion_cost = the_matrix[i][j-1]+del_cost(word2[j-1])\n",
    "            substitution_cost = the_matrix[i-1][j-1]+sub_cost(word1[i-1], word2[j-1])\n",
    "            if insertion_cost < deletion_cost:\n",
    "                out_cost = insertion_cost\n",
    "                back = \"insert\"\n",
    "            else:\n",
    "                out_cost = deletion_cost\n",
    "                back = \"delete\"\n",
    "            if substitution_cost <= out_cost:\n",
    "                out_cost = substitution_cost\n",
    "                back = \"substitute\"\n",
    "            the_matrix[i][j] = out_cost\n",
    "            back_pointers[i][j] = back\n",
    "    return (the_matrix, back_pointers)\n",
    "\n",
    "matrix, back = min_edit('hi', 'hello', del_cost, ins_cost, sub_cost)\n",
    "matrix"
   ]
  },
  {
   "cell_type": "code",
   "execution_count": 26,
   "metadata": {},
   "outputs": [
    {
     "name": "stdout",
     "output_type": "stream",
     "text": [
      "2 5\n",
      "Substitute 2 5\n",
      "delete 1 4\n",
      "delete 1 3\n",
      "delete 1 2\n",
      "Substitute 1 1\n",
      "The end 0 0\n"
     ]
    }
   ],
   "source": [
    "def get_alignment(back_pointers):\n",
    "    i = len(back_pointers) - 1\n",
    "    j = len(back_pointers[0]) - 1\n",
    "    print i, j\n",
    "    breaker = 100\n",
    "    while True:\n",
    "        if breaker < 0:\n",
    "            print \"breaker\"\n",
    "            break\n",
    "        breaker -= 1\n",
    "        direction = back_pointers[i][j]\n",
    "        if direction == None:\n",
    "            if (i == 0) and (j == 0):\n",
    "                print \"The end\", i,j\n",
    "                break\n",
    "            elif i > j:\n",
    "                print \"insert\", i, j\n",
    "                i -= 1\n",
    "            else:\n",
    "                print \"delete\", i, j\n",
    "                j -= 1\n",
    "        elif direction == \"substitute\":\n",
    "            print \"Substitute\", i, j\n",
    "            i -= 1\n",
    "            j -= 1\n",
    "        elif direction == \"delete\":\n",
    "            print \"delete\", i, j\n",
    "            j -= 1\n",
    "        elif direction == \"insert\":\n",
    "            print \"insert\", i, j\n",
    "            i -= 1\n",
    "        else:\n",
    "            print \"error\"\n",
    "            break\n",
    "            \n",
    "get_alignment(back)  "
   ]
  },
  {
   "cell_type": "code",
   "execution_count": 93,
   "metadata": {},
   "outputs": [
    {
     "name": "stdout",
     "output_type": "stream",
     "text": [
      "8\n",
      "['delete', 'substitute', 'substitute', 'substitute', 'insert', 'substitute', 'substitute', 'substitute', 'substitute', 'substitute']\n"
     ]
    }
   ],
   "source": [
    "lookup = {}\n",
    "\n",
    "def recursive(word1, word2):\n",
    "    try:\n",
    "        out = lookup[word1][word2]\n",
    "        #print \"lookup\"\n",
    "        return lookup[word1][word2]\n",
    "    except KeyError:\n",
    "        pass\n",
    "    \n",
    "    if len(word1) == 0:\n",
    "        lookup[word1] = {word2: (len(word2),[\"delete\" for _ in range(len(word2) )])}\n",
    "        return (len(word2), [\"delete\" for _ in range(len(word2))])\n",
    "    elif len(word2) == 0:\n",
    "        lookup[word1] = {word2: (len(word1),[\"insert\" for _ in range(len(word1) )]) }\n",
    "        return (len(word1), [\"insert\" for _ in range(len(word1))])\n",
    "    else:\n",
    "        insertion_cost, insertion_path = recursive(word1[:-1], word2)\n",
    "        insertion_cost += ins_cost(word1[-1])\n",
    "        deletion_cost, deletion_path = recursive(word1, word2[:-1])\n",
    "        deletion_cost += del_cost(word2[-1])\n",
    "\n",
    "        substitution_cost, substitution_path = recursive(word1[:-1], word2[:-1])\n",
    "        substitution_cost += sub_cost(word1[-1], word2[-1])   \n",
    "        if insertion_cost < deletion_cost:\n",
    "            out_cost = insertion_cost\n",
    "            out_path = [\"insert\"]+insertion_path\n",
    "            #print \"insert\"\n",
    "        else:\n",
    "            out_cost = deletion_cost\n",
    "            out_path = [\"delete\"]+deletion_path\n",
    "            #print \"delete\"\n",
    "        if substitution_cost <= out_cost:\n",
    "            out_cost = substitution_cost\n",
    "            #print substitution_path\n",
    "            out_path = [\"substitute\"]+substitution_path\n",
    "            #print \"substitute\"\n",
    "        lookup[word1][word2] = (out_cost, out_path)\n",
    "        #print out_path\n",
    "        return (out_cost, out_path)\n",
    "            \n",
    "count, backwards = recursive('execution','intention')  \n",
    "print count\n",
    "print list(reversed(backwards))"
   ]
  },
  {
   "cell_type": "markdown",
   "metadata": {},
   "source": [
    "# Viterbi"
   ]
  },
  {
   "cell_type": "code",
   "execution_count": 2,
   "metadata": {
    "collapsed": true
   },
   "outputs": [],
   "source": [
    "import nltk\n",
    "from nltk.corpus import brown"
   ]
  },
  {
   "cell_type": "code",
   "execution_count": 37,
   "metadata": {},
   "outputs": [
    {
     "data": {
      "text/plain": [
       "[(u'The', u'DET'), (u'Fulton', u'NOUN'), ...]"
      ]
     },
     "execution_count": 37,
     "metadata": {},
     "output_type": "execute_result"
    }
   ],
   "source": [
    "tags = brown.tagged_words(tagset=\"universal\")\n",
    "tags"
   ]
  },
  {
   "cell_type": "code",
   "execution_count": 38,
   "metadata": {},
   "outputs": [
    {
     "data": {
      "text/plain": [
       "1161192"
      ]
     },
     "execution_count": 38,
     "metadata": {},
     "output_type": "execute_result"
    }
   ],
   "source": [
    "len(tags)"
   ]
  },
  {
   "cell_type": "code",
   "execution_count": 107,
   "metadata": {},
   "outputs": [
    {
     "data": {
      "text/plain": [
       "[(u'NOUN', 275558),\n",
       " (u'VERB', 182750),\n",
       " (u'.', 147565),\n",
       " (u'ADP', 144766),\n",
       " (u'DET', 137019),\n",
       " (u'ADJ', 83721),\n",
       " (u'ADV', 56239),\n",
       " (u'PRON', 49334),\n",
       " (u'CONJ', 38151),\n",
       " (u'PRT', 29829),\n",
       " (u'NUM', 14874),\n",
       " (u'X', 1386)]"
      ]
     },
     "execution_count": 107,
     "metadata": {},
     "output_type": "execute_result"
    }
   ],
   "source": [
    "tag_fd = nltk.FreqDist(tag for (word, tag) in tags)\n",
    "tag_fd.most_common()"
   ]
  },
  {
   "cell_type": "code",
   "execution_count": 10,
   "metadata": {},
   "outputs": [
    {
     "data": {
      "image/png": "[encoded data removed]",
      "text/plain": [
       "<matplotlib.figure.Figure at 0x115d38c90>"
      ]
     },
     "metadata": {},
     "output_type": "display_data"
    }
   ],
   "source": [
    "def performance(cfd, wordlist):\n",
    "    lt = dict((word, cfd[word].max()) for word in wordlist)\n",
    "    baseline_tagger = nltk.UnigramTagger(model=lt, backoff=nltk.DefaultTagger('NN'))\n",
    "    return baseline_tagger.evaluate(brown.tagged_sents(categories='news'))\n",
    "\n",
    "def display():\n",
    "    import pylab\n",
    "    word_freqs = nltk.FreqDist(brown.words(categories='news')).most_common()\n",
    "    words_by_freq = [w for (w, _) in word_freqs]\n",
    "    cfd = nltk.ConditionalFreqDist(brown.tagged_words(categories='news'))\n",
    "    sizes = 2 ** pylab.arange(15)\n",
    "    perfs = [performance(cfd, words_by_freq[:size]) for size in sizes]\n",
    "    pylab.plot(sizes, perfs, '-bo')\n",
    "    pylab.title('Lookup Tagger Performance with Varying Model Size')\n",
    "    pylab.xlabel('Model Size')\n",
    "    pylab.ylabel('Performance')\n",
    "    pylab.show()\n",
    "display()"
   ]
  },
  {
   "cell_type": "code",
   "execution_count": 26,
   "metadata": {},
   "outputs": [
    {
     "data": {
      "text/plain": [
       "[(u'the', 5580),\n",
       " (u',', 5188),\n",
       " (u'.', 4030),\n",
       " (u'of', 2849),\n",
       " (u'and', 2146),\n",
       " (u'to', 2116),\n",
       " (u'a', 1993),\n",
       " (u'in', 1893),\n",
       " (u'for', 943),\n",
       " (u'The', 806)]"
      ]
     },
     "execution_count": 26,
     "metadata": {},
     "output_type": "execute_result"
    }
   ],
   "source": [
    "nltk.FreqDist(brown.words(categories='news')).most_common()[:10]"
   ]
  },
  {
   "cell_type": "code",
   "execution_count": 27,
   "metadata": {},
   "outputs": [
    {
     "name": "stdout",
     "output_type": "stream",
     "text": [
      "<FreqDist with 1 samples and 5580 outcomes>\n"
     ]
    }
   ],
   "source": [
    "cfd = nltk.ConditionalFreqDist(brown.tagged_words(categories='news', tagset=\"universal\"))\n",
    "for key in cfd.keys():\n",
    "    if key == \"the\":\n",
    "        print cfd[key]"
   ]
  },
  {
   "cell_type": "code",
   "execution_count": 28,
   "metadata": {},
   "outputs": [
    {
     "name": "stdout",
     "output_type": "stream",
     "text": [
      "DET 5580\n"
     ]
    }
   ],
   "source": [
    "the = cfd[\"the\"]\n",
    "for key in the.keys():\n",
    "    print key, the[key]\n"
   ]
  },
  {
   "cell_type": "code",
   "execution_count": 47,
   "metadata": {},
   "outputs": [
    {
     "name": "stdout",
     "output_type": "stream",
     "text": [
      "234 33693 0.00694506277268\n"
     ]
    }
   ],
   "source": [
    "tags = brown.tagged_words()\n",
    "flag = False\n",
    "det_count = 0\n",
    "noun_det_count = 0\n",
    "for word, tag in tags:\n",
    "    if flag:\n",
    "        flag = False\n",
    "        if tag == \"PPSS\":\n",
    "            noun_det_count += 1\n",
    "    if tag == \"VB\":\n",
    "        det_count += 1\n",
    "        flag = True\n",
    "print noun_det_count, det_count, float(noun_det_count)/det_count       "
   ]
  },
  {
   "cell_type": "code",
   "execution_count": 51,
   "metadata": {},
   "outputs": [
    {
     "name": "stdout",
     "output_type": "stream",
     "text": [
      "4 33693 0.000118719021755\n"
     ]
    }
   ],
   "source": [
    "tags = brown.tagged_words()\n",
    "\n",
    "det_count = 0\n",
    "noun_det_count = 0\n",
    "for word, tag in tags:\n",
    "    if tag == \"VB\":\n",
    "        det_count += 1\n",
    "        if word == \"race\":\n",
    "            noun_det_count += 1\n",
    "print noun_det_count, det_count, float(noun_det_count)/det_count    "
   ]
  },
  {
   "cell_type": "code",
   "execution_count": 55,
   "metadata": {},
   "outputs": [
    {
     "name": "stdout",
     "output_type": "stream",
     "text": [
      "3146 57340 0.0548657132892\n",
      "4 33693 0.000118719021755\n"
     ]
    }
   ],
   "source": [
    "sents = brown.tagged_sents()\n",
    "flag = False\n",
    "det_count = 0\n",
    "noun_det_count = 0\n",
    "noun_det_count_2 = 0\n",
    "for sentence in sents:\n",
    "    if sentence[0][1] == \"PPSS\":\n",
    "        noun_det_count += 1\n",
    "    for word, tag in sentence:\n",
    "        if tag == \"VB\":\n",
    "            det_count += 1\n",
    "            if word == \"race\":\n",
    "                noun_det_count_2 += 1\n",
    "\n",
    "print noun_det_count, len(sents), float(noun_det_count)/len(sents) \n",
    "print noun_det_count_2, det_count, float(noun_det_count_2)/det_count   "
   ]
  },
  {
   "cell_type": "code",
   "execution_count": 2,
   "metadata": {
    "collapsed": true
   },
   "outputs": [],
   "source": [
    "observation_like = {\"VB\":  {\"I\":0,  \"want\":.0093,  \"to\":0,   \"race\":.00012},\n",
    "                    \"TO\":  {\"I\":0,  \"want\":0,      \"to\":0.99,\"race\":0}, \n",
    "                    \"NN\":  {\"I\":0,  \"want\":.000054,\"to\":0,   \"race\":.00057},\n",
    "                    \"PPSS\":{\"I\":.37,\"want\":0,      \"to\":0,   \"race\":.00012}}\n",
    "transition_probs = {\"<s>\": {\"VB\":.019, \"TO\":.0043, \"NN\":.041,  \"PPSS\":.067},\n",
    "                    \"VB\":  {\"VB\":.0038,\"TO\":.035,  \"NN\":.047,  \"PPSS\":.007}, \n",
    "                    \"TO\":  {\"VB\":.83,  \"TO\":0,     \"NN\":.00047,\"PPSS\":0},\n",
    "                    \"NN\":  {\"VB\":.0040,\"TO\":.016,  \"NN\":.087,  \"PPSS\":.0045},\n",
    "                    \"PPSS\":{\"VB\":.23,  \"TO\":.00079,\"NN\":.0012, \"PPSS\":.00014}}\n",
    "transition_order = [\"VB\",\"TO\",\"NN\",\"PPSS\"]"
   ]
  },
  {
   "cell_type": "code",
   "execution_count": null,
   "metadata": {
    "collapsed": true
   },
   "outputs": [],
   "source": [
    "def viterbi(tokens):\n",
    "    matrix = [[-1 for i in range(len(tokens)+1)] for j in range(len(transition_probs))]\n",
    "    back_pointers = [[None for i in range(len(tokens)+1)] for j in range(len(transition_probs))]\n",
    "    \n",
    "    for s in range(1, len(transition_probs)):\n",
    "        matrix[s]\n",
    "        back_pointers[s][1] = 0"
   ]
  }
 ],
 "metadata": {
  "kernelspec": {
   "display_name": "Python 2",
   "language": "python",
   "name": "python2"
  },
  "language_info": {
   "codemirror_mode": {
    "name": "ipython",
    "version": 2
   },
   "file_extension": ".py",
   "mimetype": "text/x-python",
   "name": "python",
   "nbconvert_exporter": "python",
   "pygments_lexer": "ipython2",
   "version": "2.7.13"
  }
 },
 "nbformat": 4,
 "nbformat_minor": 2
}
