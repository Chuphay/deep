{
 "cells": [
  {
   "cell_type": "code",
   "execution_count": 2,
   "metadata": {},
   "outputs": [
    {
     "name": "stdout",
     "output_type": "stream",
     "text": [
      "Populating the interactive namespace from numpy and matplotlib\n"
     ]
    }
   ],
   "source": [
    "%pylab inline\n",
    "import torch\n",
    "import torch.nn.functional as F\n",
    "import numpy as np\n",
    "dtype = torch.float\n",
    "device = torch.device(\"cpu\")\n",
    "# device = torch.device(\"cuda:0\") # Uncomment this to run on GPU"
   ]
  },
  {
   "cell_type": "markdown",
   "metadata": {},
   "source": [
    "Notes from the [Deep Learning Book](https://www.deeplearningbook.org/)"
   ]
  },
  {
   "cell_type": "markdown",
   "metadata": {},
   "source": [
    "# Ch.7 Regularization for Deep Learning"
   ]
  },
  {
   "cell_type": "markdown",
   "metadata": {},
   "source": [
    "### 7.1 Parameter Norm Penalties\n",
    "\n",
    "$$\\renewcommand\\vec{\\boldsymbol}$$\n",
    "\n",
    "\n",
    "Many regularization approaches are based on limiting the capacity of models, such as neural networks, linear regression, or logistic regression, by adding a parameter norm penalty $\\Omega (\\vec {\\theta})$ to the objective function $J$. We denote the regularized objective function by $\\tilde J$:\n",
    "\n",
    "$$\\tilde J(\\vec{\\theta} ; \\vec X , \\vec y) = J(\\vec{\\theta} ; \\vec X , \\vec y) + \\alpha \\Omega (\\vec{\\theta})$$\n",
    "\n",
    "Before delving into the regularization behavior of different norms, we note that for neural networks, we typically choose to use a parameter norm penalty $\\Omega$ that penalizes **only the weights** of the affine transformation at each layer, and leaves the biases unregularized. Regularizing the bias parameters can introduce a significant amount of underfitting. We therefore use the vector $\\vec{\\omega}$ to indicate all the weights that should be affected by a norm penalty, while the vector $\\vec{\\theta}$ denotes all the parameters."
   ]
  },
  {
   "cell_type": "markdown",
   "metadata": {},
   "source": [
    "### 7.1.1 $L^2$ Parameter Regularization\n",
    "\n",
    "One of the simplest and most common kinds of parameter norm penalty is the $L^2$ parameter norm penalty commonly known as **weight decay**. This regularization strategy drives the weights close to the origin by adding a regularization term $\\Omega(\\vec{\\theta}) = \\frac 1 2 \\parallel \\vec{\\omega} \\parallel_2^2$ to the objective function.\n"
   ]
  },
  {
   "cell_type": "code",
   "execution_count": 124,
   "metadata": {},
   "outputs": [
    {
     "data": {
      "image/png": "[encoded data removed]",
      "text/plain": [
       "<matplotlib.figure.Figure at 0x10984bad0>"
      ]
     },
     "metadata": {},
     "output_type": "display_data"
    }
   ],
   "source": [
    "np.random.seed(123)\n",
    "ln = lambda x: 4*log(x) + 10\n",
    "x = np.array([linspace(0.1,6.1,12, endpoint = False)]).T/6.1\n",
    "y = ln(x) + 1.0*randn(12,1)\n",
    "scatter(x[:,0],y[:,0], color=\"r\");"
   ]
  },
  {
   "cell_type": "code",
   "execution_count": 71,
   "metadata": {},
   "outputs": [
    {
     "name": "stdout",
     "output_type": "stream",
     "text": [
      "0 587.956237793\n",
      "1000 11.6985750198\n",
      "2000 10.7421293259\n",
      "3000 2.56788444519\n",
      "4000 0.481240868568\n",
      "5000 0.0126521643251\n",
      "6000 0.00156842032447\n",
      "7000 2.46649797191e-05\n",
      "8000 3.76451282591e-07\n",
      "9000 7.59865770306e-09\n",
      "9999 9.38769062486e-10\n"
     ]
    },
    {
     "data": {
      "image/png": "[encoded data removed]",
      "text/plain": [
       "<matplotlib.figure.Figure at 0x1088fca90>"
      ]
     },
     "metadata": {},
     "output_type": "display_data"
    }
   ],
   "source": [
    "torch.manual_seed(138)\n",
    "\n",
    "class NeuralNet(torch.nn.Module):\n",
    "    def __init__(self):\n",
    "        super(NeuralNet, self).__init__()\n",
    "        self.W1 = torch.nn.Linear(1, 128)\n",
    "        self.W2 = torch.nn.Linear(128, 128)\n",
    "        self.W3 = torch.nn.Linear(128, 128)\n",
    "        self.W4 = torch.nn.Linear(128, 1)\n",
    "\n",
    "    def forward(self, x):\n",
    "        out = self.W4(F.relu(self.W3(F.relu(self.W2(F.relu(self.W1(x)))))))\n",
    "        return out\n",
    "\n",
    "\n",
    "model = NeuralNet()\n",
    "\n",
    "x_t = torch.tensor(x, device=device, dtype = dtype)\n",
    "y_t = torch.tensor(y, device=device, dtype = dtype)\n",
    "loss_fn = torch.nn.MSELoss(reduction='sum')\n",
    "\n",
    "optimizer = torch.optim.SGD(model.parameters(), lr=1e-4, weight_decay=0, momentum = 0.9)\n",
    "for t in range(10000):\n",
    "\n",
    "    y_pred = model(x_t)\n",
    "\n",
    "    loss = loss_fn(y_pred, y_t)\n",
    "    if t%1000 == 0:\n",
    "        print t, loss.item()\n",
    "\n",
    "    optimizer.zero_grad()\n",
    "    loss.backward()\n",
    "    optimizer.step()\n",
    "    \n",
    "print t, loss.item()\n",
    "    \n",
    "x_test = np.array([np.arange(100)/100.0]).T\n",
    "x_pred = torch.tensor(x_test, device=device, dtype = dtype)\n",
    "y_pred = model(x_pred)\n",
    "#print list(model.named_parameters())\n",
    "scatter(x_pred[:,0].tolist(),y_pred[:,0].tolist())\n",
    "scatter(x[:,0],y[:,0], color=\"r\");"
   ]
  },
  {
   "cell_type": "code",
   "execution_count": 148,
   "metadata": {},
   "outputs": [
    {
     "name": "stdout",
     "output_type": "stream",
     "text": [
      "0 513.48828125\n",
      "10000 13.4597406387\n",
      "20000 12.8130626678\n",
      "30000 11.8477668762\n",
      "40000 5.45657491684\n",
      "50000 1.30145061016\n",
      "60000 0.175714746118\n",
      "70000 0.0933856666088\n",
      "80000 0.0533940196037\n",
      "90000 0.0319392681122\n",
      "99999 0.0200643856078\n"
     ]
    },
    {
     "data": {
      "image/png": "[encoded data removed]",
      "text/plain": [
       "<matplotlib.figure.Figure at 0x109c8e3d0>"
      ]
     },
     "metadata": {},
     "output_type": "display_data"
    }
   ],
   "source": [
    "torch.manual_seed(133)\n",
    "\n",
    "class NeuralNet(torch.nn.Module):\n",
    "    def __init__(self):\n",
    "        super(NeuralNet, self).__init__()\n",
    "        self.W1 = torch.nn.Linear(1, 12)\n",
    "        self.W4 = torch.nn.Linear(12, 1)\n",
    "\n",
    "    def forward(self, x):\n",
    "        out = self.W4(F.sigmoid(self.W1(x)))\n",
    "        return out\n",
    "\n",
    "\n",
    "model = NeuralNet()\n",
    "\n",
    "x_t = torch.tensor(x, device=device, dtype = dtype)\n",
    "y_t = torch.tensor(y, device=device, dtype = dtype)\n",
    "loss_fn = torch.nn.MSELoss(reduction='sum')\n",
    "\n",
    "optimizer = torch.optim.SGD(model.parameters(), lr=1e-3, weight_decay=0.0, momentum = 0.9)\n",
    "for t in range(100000):\n",
    "\n",
    "    y_pred = model(x_t)\n",
    "    \n",
    "    loss = loss_fn(y_pred, y_t)\n",
    "    if t%10000 == 0:\n",
    "        print t, loss.item()\n",
    "    \n",
    "    optimizer.zero_grad()\n",
    "    loss.backward()\n",
    "    optimizer.step()\n",
    "    \n",
    "print t, loss.item()\n",
    "    \n",
    "x_test = np.array([np.arange(100)/100.0]).T\n",
    "x_pred = torch.tensor(x_test, device=device, dtype = dtype)\n",
    "y_pred = model(x_pred)\n",
    "scatter(x_pred[:,0].tolist(),y_pred[:,0].tolist())\n",
    "scatter(x[:,0],y[:,0], color=\"r\");"
   ]
  },
  {
   "cell_type": "code",
   "execution_count": 154,
   "metadata": {},
   "outputs": [
    {
     "data": {
      "image/png": "[encoded data removed]",
      "text/plain": [
       "<matplotlib.figure.Figure at 0x109687a50>"
      ]
     },
     "metadata": {},
     "output_type": "display_data"
    }
   ],
   "source": [
    "np.random.seed(123)\n",
    "ln = lambda x: 4*log(x) + 10\n",
    "x = np.array([linspace(0.1,6.1,12, endpoint = False)]).T/6.1\n",
    "y = ln(x) + 1.0*randn(12,1)\n",
    "from sklearn.preprocessing import StandardScaler\n",
    "x_s = StandardScaler().fit_transform(x)\n",
    "y_s = StandardScaler().fit_transform(y)\n",
    "scatter(x_s[:,0],y_s[:,0], color=\"r\");"
   ]
  },
  {
   "cell_type": "code",
   "execution_count": 173,
   "metadata": {},
   "outputs": [
    {
     "name": "stdout",
     "output_type": "stream",
     "text": [
      "0 18.0521621704\n",
      "10000 0.315595120192\n",
      "20000 0.168673112988\n",
      "30000 0.0770069435239\n",
      "40000 0.0251476801932\n",
      "49999 0.00601843418553\n"
     ]
    },
    {
     "data": {
      "image/png": "[encoded data removed]",
      "text/plain": [
       "<matplotlib.figure.Figure at 0x110a4c290>"
      ]
     },
     "metadata": {},
     "output_type": "display_data"
    }
   ],
   "source": [
    "torch.manual_seed(133)\n",
    "\n",
    "class NeuralNet(torch.nn.Module):\n",
    "    def __init__(self):\n",
    "        super(NeuralNet, self).__init__()\n",
    "        self.W1 = torch.nn.Linear(1, 24) #23 doesn't work\n",
    "        self.W4 = torch.nn.Linear(24, 1)\n",
    "\n",
    "    def forward(self, x):\n",
    "        out = self.W4(F.relu(self.W1(x)))\n",
    "        return out\n",
    "\n",
    "\n",
    "model = NeuralNet()\n",
    "\n",
    "x_t = torch.tensor(x_s, device=device, dtype = dtype)\n",
    "y_t = torch.tensor(y_s, device=device, dtype = dtype)\n",
    "loss_fn = torch.nn.MSELoss(reduction='sum')\n",
    "\n",
    "optimizer = torch.optim.SGD(model.parameters(), lr=1e-3)\n",
    "for t in range(50000):\n",
    "\n",
    "    y_pred = model(x_t)\n",
    "    \n",
    "    loss = loss_fn(y_pred, y_t)\n",
    "    if t%10000 == 0:\n",
    "        print t, loss.item()\n",
    "    \n",
    "    optimizer.zero_grad()\n",
    "    loss.backward()\n",
    "    optimizer.step()\n",
    "    \n",
    "print t, loss.item()\n",
    "    \n",
    "x_test = StandardScaler().fit_transform(np.array([np.arange(100)/100.0]).T)\n",
    "x_pred = torch.tensor(x_test, device=device, dtype = dtype)\n",
    "y_pred = model(x_pred)\n",
    "scatter(x_pred[:,0].tolist(),y_pred[:,0].tolist())\n",
    "scatter(x_s[:,0],y_s[:,0], color=\"r\");"
   ]
  },
  {
   "cell_type": "code",
   "execution_count": 93,
   "metadata": {},
   "outputs": [
    {
     "name": "stdout",
     "output_type": "stream",
     "text": [
      "0 513.48828125\n",
      "1000 33.7751693726\n",
      "2000 31.1093463898\n",
      "3000 29.0856819153\n",
      "4000 27.7554321289\n",
      "5000 27.1281814575\n",
      "6000 26.8888225555\n",
      "7000 26.7986831665\n",
      "8000 26.7584266663\n",
      "9000 26.7359027863\n",
      "9999 26.7210998535\n"
     ]
    },
    {
     "data": {
      "image/png": "[encoded data removed]",
      "text/plain": [
       "<matplotlib.figure.Figure at 0x109e244d0>"
      ]
     },
     "metadata": {},
     "output_type": "display_data"
    }
   ],
   "source": [
    "torch.manual_seed(133)\n",
    "\n",
    "class NeuralNet(torch.nn.Module):\n",
    "    def __init__(self):\n",
    "        super(NeuralNet, self).__init__()\n",
    "        self.W1 = torch.nn.Linear(1, 12)\n",
    "        self.W4 = torch.nn.Linear(12, 1)\n",
    "\n",
    "    def forward(self, x):\n",
    "\n",
    "        out = self.W4(F.sigmoid(self.W1(x)))\n",
    "        return out\n",
    "\n",
    "\n",
    "model = NeuralNet()\n",
    "\n",
    "x_t = torch.tensor(x, device=device, dtype = dtype)\n",
    "y_t = torch.tensor(y, device=device, dtype = dtype)\n",
    "loss_fn = torch.nn.MSELoss(reduction='sum')\n",
    "\n",
    "optimizer = torch.optim.SGD(model.parameters(), lr=1e-3, weight_decay=0.1, momentum = 0.9)\n",
    "for t in range(10000):\n",
    "    optimizer.zero_grad()\n",
    "    y_pred = model(x_t)\n",
    "    \n",
    "    loss = loss_fn(y_pred, y_t)\n",
    "    if t%1000 == 0:\n",
    "        print t, loss.item()\n",
    "    \n",
    "\n",
    "    loss.backward()\n",
    "    optimizer.step()\n",
    "    \n",
    "print t, loss.item()\n",
    "    \n",
    "x_test = np.array([np.arange(100)/100.0]).T\n",
    "x_pred = torch.tensor(x_test, device=device, dtype = dtype)\n",
    "y_pred = model(x_pred)\n",
    "scatter(x_pred[:,0].tolist(),y_pred[:,0].tolist())\n",
    "scatter(x[:,0],y[:,0], color=\"r\");"
   ]
  },
  {
   "cell_type": "code",
   "execution_count": 113,
   "metadata": {},
   "outputs": [
    {
     "name": "stdout",
     "output_type": "stream",
     "text": [
      "0 513.48828125\n",
      "1000 33.7751693726\n",
      "2000 31.1093463898\n",
      "3000 29.0856819153\n",
      "4000 27.7554321289\n",
      "5000 27.1281814575\n",
      "6000 26.8888225555\n",
      "7000 26.7986831665\n",
      "8000 26.7584266663\n",
      "9000 26.7359027863\n",
      "9999 26.7210998535\n"
     ]
    },
    {
     "data": {
      "image/png": "[encoded data removed]",
      "text/plain": [
       "<matplotlib.figure.Figure at 0x1096cd610>"
      ]
     },
     "metadata": {},
     "output_type": "display_data"
    }
   ],
   "source": [
    "torch.manual_seed(133)\n",
    "\n",
    "class NeuralNet(torch.nn.Module):\n",
    "    def __init__(self):\n",
    "        super(NeuralNet, self).__init__()\n",
    "        self.W1 = torch.nn.Linear(1, 12)\n",
    "        self.W4 = torch.nn.Linear(12, 1)\n",
    "\n",
    "    def forward(self, x):\n",
    "\n",
    "        out = self.W4(F.sigmoid(self.W1(x)))\n",
    "        return out\n",
    "\n",
    "\n",
    "model = NeuralNet()\n",
    "\n",
    "x_t = torch.tensor(x, device=device, dtype = dtype)\n",
    "y_t = torch.tensor(y, device=device, dtype = dtype)\n",
    "loss_fn = torch.nn.MSELoss(reduction='sum')\n",
    "\n",
    "optimizer = torch.optim.SGD(model.parameters(), lr=1e-3, weight_decay=0.0, momentum = 0.9)\n",
    "for t in range(10000):\n",
    "    optimizer.zero_grad()\n",
    "    y_pred = model(x_t)\n",
    "    \n",
    "    loss = loss_fn(y_pred, y_t)\n",
    "    if t%1000 == 0:\n",
    "        print t, loss.item()\n",
    "    my_lambda = torch.tensor(0.1)\n",
    "    l2_reg = torch.tensor(0.)\n",
    "\n",
    "    for param in model.parameters():\n",
    "\n",
    "        l2_reg += torch.pow(param, 2).sum()\n",
    "\n",
    "    loss += 0.5*my_lambda * l2_reg\n",
    "\n",
    "    loss.backward()\n",
    "    optimizer.step()\n",
    "    \n",
    "print t, loss.item() - (0.5*my_lambda * l2_reg).item()\n",
    "    \n",
    "x_test = np.array([np.arange(100)/100.0]).T\n",
    "x_pred = torch.tensor(x_test, device=device, dtype = dtype)\n",
    "y_pred = model(x_pred)\n",
    "scatter(x_pred[:,0].tolist(),y_pred[:,0].tolist())\n",
    "scatter(x[:,0],y[:,0], color=\"r\");"
   ]
  },
  {
   "cell_type": "code",
   "execution_count": 115,
   "metadata": {},
   "outputs": [
    {
     "name": "stdout",
     "output_type": "stream",
     "text": [
      "0 513.48828125\n",
      "1000 33.5673217773\n",
      "2000 31.5899353027\n",
      "3000 30.2648963928\n",
      "4000 29.1213874817\n",
      "5000 28.2289791107\n",
      "6000 27.6435184479\n",
      "7000 27.2717494965\n",
      "8000 27.0402908325\n",
      "9000 26.905122757\n",
      "9999 26.828168869\n"
     ]
    },
    {
     "data": {
      "image/png": "[encoded data removed]",
      "text/plain": [
       "<matplotlib.figure.Figure at 0x109c0fe90>"
      ]
     },
     "metadata": {},
     "output_type": "display_data"
    }
   ],
   "source": [
    "torch.manual_seed(133)\n",
    "\n",
    "class NeuralNet(torch.nn.Module):\n",
    "    def __init__(self):\n",
    "        super(NeuralNet, self).__init__()\n",
    "        self.W1 = torch.nn.Linear(1, 12)\n",
    "        self.W4 = torch.nn.Linear(12, 1)\n",
    "\n",
    "    def forward(self, x):\n",
    "\n",
    "        out = self.W4(F.sigmoid(self.W1(x)))\n",
    "        return out\n",
    "\n",
    "\n",
    "model = NeuralNet()\n",
    "\n",
    "x_t = torch.tensor(x, device=device, dtype = dtype)\n",
    "y_t = torch.tensor(y, device=device, dtype = dtype)\n",
    "loss_fn = torch.nn.MSELoss(reduction='sum')\n",
    "\n",
    "optimizer = torch.optim.SGD(model.parameters(), lr=1e-3, weight_decay=0.0, momentum = 0.9)\n",
    "for t in range(10000):\n",
    "    optimizer.zero_grad()\n",
    "    y_pred = model(x_t)\n",
    "    \n",
    "    loss = loss_fn(y_pred, y_t)\n",
    "    if t%1000 == 0:\n",
    "        print t, loss.item()\n",
    "    my_lambda = torch.tensor(0.1)\n",
    "    l2_reg = torch.tensor(0.)\n",
    "\n",
    "    for name, param in model.named_parameters():\n",
    "\n",
    "        if 'bias' in name:\n",
    "            continue\n",
    "        l2_reg += torch.pow(param, 2).sum()\n",
    "\n",
    "    loss += 0.5*my_lambda * l2_reg\n",
    "\n",
    "    loss.backward()\n",
    "    optimizer.step()\n",
    "    \n",
    "print t, loss.item() - (0.5*my_lambda * l2_reg).item()\n",
    "    \n",
    "x_test = np.array([np.arange(100)/100.0]).T\n",
    "x_pred = torch.tensor(x_test, device=device, dtype = dtype)\n",
    "y_pred = model(x_pred)\n",
    "scatter(x_pred[:,0].tolist(),y_pred[:,0].tolist())\n",
    "scatter(x[:,0],y[:,0], color=\"r\");"
   ]
  },
  {
   "cell_type": "code",
   "execution_count": 123,
   "metadata": {},
   "outputs": [
    {
     "name": "stdout",
     "output_type": "stream",
     "text": [
      "0 513.48828125\n",
      "1000 33.5673217773\n",
      "2000 31.5899353027\n",
      "3000 30.2648963928\n",
      "4000 29.1213874817\n",
      "5000 28.2289791107\n",
      "6000 27.6435184479\n",
      "7000 27.2717494965\n",
      "8000 27.0402908325\n",
      "9000 26.905122757\n",
      "9999 26.8281669617\n"
     ]
    },
    {
     "data": {
      "image/png": "[encoded data removed]",
      "text/plain": [
       "<matplotlib.figure.Figure at 0x10a1d4410>"
      ]
     },
     "metadata": {},
     "output_type": "display_data"
    }
   ],
   "source": [
    "torch.manual_seed(133)\n",
    "\n",
    "class NeuralNet(torch.nn.Module):\n",
    "    def __init__(self):\n",
    "        super(NeuralNet, self).__init__()\n",
    "        self.W1 = torch.nn.Linear(1, 12)\n",
    "        self.W4 = torch.nn.Linear(12, 1)\n",
    "\n",
    "    def forward(self, x):\n",
    "\n",
    "        out = self.W4(F.sigmoid(self.W1(x)))\n",
    "        return out\n",
    "\n",
    "\n",
    "model = NeuralNet()\n",
    "\n",
    "x_t = torch.tensor(x, device=device, dtype = dtype)\n",
    "y_t = torch.tensor(y, device=device, dtype = dtype)\n",
    "loss_fn = torch.nn.MSELoss(reduction='sum')\n",
    "\n",
    "weights, biases = [], []\n",
    "for name, p in model.named_parameters():\n",
    "    if 'bias' in name:\n",
    "        biases += [p]\n",
    "    else:\n",
    "        weights += [p]\n",
    "\n",
    "optimizer =  torch.optim.SGD([\n",
    "  {'params': weights},\n",
    "  {'params': biases, 'weight_decay':0.0}\n",
    "], lr=1e-3, momentum=0.9, weight_decay=0.1)\n",
    "\n",
    "# torch.optim.SGD(model.parameters(), lr=1e-3, weight_decay=0.0, momentum = 0.9)\n",
    "for t in range(10000):\n",
    "    optimizer.zero_grad()\n",
    "    y_pred = model(x_t)\n",
    "    \n",
    "    loss = loss_fn(y_pred, y_t)\n",
    "    if t%1000 == 0:\n",
    "        print t, loss.item()\n",
    "\n",
    "\n",
    "    loss.backward()\n",
    "    optimizer.step()\n",
    "    \n",
    "print t, loss.item()\n",
    "    \n",
    "x_test = np.array([np.arange(100)/100.0]).T\n",
    "x_pred = torch.tensor(x_test, device=device, dtype = dtype)\n",
    "y_pred = model(x_pred)\n",
    "scatter(x_pred[:,0].tolist(),y_pred[:,0].tolist())\n",
    "scatter(x[:,0],y[:,0], color=\"r\");"
   ]
  },
  {
   "cell_type": "markdown",
   "metadata": {},
   "source": [
    "### 7.1.2 $L^1$ Parameter Regularization\n",
    "\n",
    "Formally, $L^1$ regularization on the model parameter $\\vec{\\omega}$ is defined as\n",
    "\n",
    "$$ \\Omega(\\vec{\\theta}) = \\parallel \\vec {\\omega} \\parallel_1 = \\sum_i |\\omega_i|$$\n",
    "\n",
    "In comparison to $L^2$ regularization, $L^1$ regularization results in a solution that is more sparse which has been used extensively as a *feature selection* mechanism."
   ]
  },
  {
   "cell_type": "code",
   "execution_count": 135,
   "metadata": {},
   "outputs": [
    {
     "name": "stdout",
     "output_type": "stream",
     "text": [
      "49999 16.3571586609\n",
      "Parameter containing:\n",
      "tensor([[ 4.6792e-04],\n",
      "        [-8.1578e-05],\n",
      "        [ 7.1028e-04],\n",
      "        [ 1.0250e-03],\n",
      "        [-2.1679e+01],\n",
      "        [ 9.2969e-04],\n",
      "        [ 6.9496e-06],\n",
      "        [-6.1655e-05],\n",
      "        [ 5.4006e-04],\n",
      "        [-2.6932e-05],\n",
      "        [-1.1749e-04],\n",
      "        [ 3.6621e+00]], requires_grad=True)\n",
      "Parameter containing:\n",
      "tensor([-0.0001, -0.0002,  0.0005, -0.0002,  0.6066, -0.0004, -0.0006,  0.0003,\n",
      "         0.0005,  0.0004,  0.0004, -1.1218], requires_grad=True)\n",
      "Parameter containing:\n",
      "tensor([[ 2.0998e-04, -3.0892e-04, -3.1434e-04,  7.8459e-04, -1.6459e+01,\n",
      "          8.3955e-04,  3.4361e-04,  2.3368e-04,  1.0822e-03, -1.4865e-07,\n",
      "         -5.4141e-04,  1.0166e+01]], requires_grad=True)\n",
      "Parameter containing:\n",
      "tensor([0.0011], requires_grad=True)\n"
     ]
    },
    {
     "data": {
      "image/png": "[encoded data removed]",
      "text/plain": [
       "<matplotlib.figure.Figure at 0x10952c9d0>"
      ]
     },
     "metadata": {},
     "output_type": "display_data"
    }
   ],
   "source": [
    "torch.manual_seed(133)\n",
    "\n",
    "class NeuralNet(torch.nn.Module):\n",
    "    def __init__(self):\n",
    "        super(NeuralNet, self).__init__()\n",
    "        self.W1 = torch.nn.Linear(1, 12)\n",
    "        self.W4 = torch.nn.Linear(12, 1)\n",
    "\n",
    "    def forward(self, x):\n",
    "\n",
    "        out = self.W4(F.sigmoid(self.W1(x)))\n",
    "        return out\n",
    "\n",
    "\n",
    "model = NeuralNet()\n",
    "\n",
    "x_t = torch.tensor(x, device=device, dtype = dtype)\n",
    "y_t = torch.tensor(y, device=device, dtype = dtype)\n",
    "loss_fn = torch.nn.MSELoss(reduction='sum')\n",
    "\n",
    "optimizer = torch.optim.SGD(model.parameters(), lr=1e-3, weight_decay=0.0, momentum = 0.9)\n",
    "for t in range(50000):\n",
    "    optimizer.zero_grad()\n",
    "    y_pred = model(x_t)\n",
    "    \n",
    "    loss = loss_fn(y_pred, y_t)\n",
    "#     if t%1000 == 0:\n",
    "#         print t, loss.item()\n",
    "    my_lambda = torch.tensor(0.5)\n",
    "    l1_reg = torch.tensor(0.)\n",
    "\n",
    "\n",
    "    for param in model.parameters():\n",
    "        l1_reg += torch.sum(torch.abs(param))\n",
    "\n",
    "    loss += my_lambda * l1_reg\n",
    "\n",
    "    loss.backward()\n",
    "    optimizer.step()\n",
    "    \n",
    "print t, loss.item() - (my_lambda * l1_reg).item()\n",
    "    \n",
    "x_test = np.array([np.arange(100)/100.0]).T\n",
    "x_pred = torch.tensor(x_test, device=device, dtype = dtype)\n",
    "y_pred = model(x_pred)\n",
    "for param in model.parameters():\n",
    "    print param\n",
    "scatter(x_pred[:,0].tolist(),y_pred[:,0].tolist())\n",
    "scatter(x[:,0],y[:,0], color=\"r\");"
   ]
  },
  {
   "cell_type": "markdown",
   "metadata": {},
   "source": [
    "### 7.4 Dataset Augmentation\n",
    "\n",
    "The best way to make a machine learning model generalize better is to train it on more data. Of course, in practice, the amount of data we have is limited. One way to get around this problem is to create fake data and add it to the training set.\n",
    "\n",
    "Dataset augmentation has been a particularly effective technique for object recognition. Operations like translating the training images a fex pixels in each direction can often greatly improve generalization.\n",
    "\n",
    "Injecting noise in the input to a neural network can also be a form of data augmentation. Input noise injection is part of some unsupervised learning algorithms, such as the denoising autoencoder. \n",
    "\n",
    "Noise injection also works when the noise is applied to the hidden units.\n",
    "\n",
    "### 7.5.1 Injecting Noise at the Output Targets\n",
    "\n",
    "Most datasets have some number of mistakes in the $y$ labels. It can be harmful to maximize $\\log p(y | \\vec x)$ when $y$ is a mistake. One way to prevent this is to explicitly model the noise on the labels. For example, we can assume that for some small constant $\\epsilon$, the training set label $y$ is correct with probability $1-\\epsilon$, and otherwise any of the other possible labels might be correct. *Label Smoothing* regularizes a model based on a softmax with k output values by replacing the hard 0 and 1 classification targets with targets of $\\frac {\\epsilon} {k - 1}$ and $1-\\epsilon$, respectively."
   ]
  },
  {
   "cell_type": "markdown",
   "metadata": {},
   "source": [
    "### 7.8 Early Stopping\n",
    "\n",
    "When training large models with sufficient representational capacity to overfit the task, we often observe that training error decreases steadily over time, but validation set error begins to rise again.\n",
    "\n",
    "Therefore, return the model with the best validation set error!\n",
    "\n",
    "### 7.9 Parameter Tying and Parameter Sharing\n",
    "\n",
    "Let us imagine that two tasks are similar enough (perhaps with similar input and output distributions) that we believe the model parameters should be close to each other. We can use a parameter norm penalty to ensure closeness.\n",
    "\n",
    "While a parameter norm penalty is one way to regularize parameters to be close to each other, the more popular way is to set the parameters equal to each other. This method of regularization is often referred to as *parameter sharing*.\n",
    "\n",
    "### 7.9.1 Convolutional Neural Networks\n",
    "\n",
    "By far the most popular and extensive use of parameter sharing occurs in CNNs applied to computer vision.\n",
    "\n",
    "Natural images have many statistical properties that are invariant to translation. CNNs take this property into account by sharing parameters across multiple image locations. The same feature (a hidden unit with the same weights) is computed over different locations in the input. "
   ]
  },
  {
   "cell_type": "markdown",
   "metadata": {},
   "source": [
    "### 7.12 Dropout\n",
    "\n",
    "**Dropout** [(Srivastava, 2014)](http://www.jmlr.org/papers/volume15/srivastava14a.old/srivastava14a.pdf) provides a computationally inexpensive but powerful method of regularizing a broad family of models. To a first approximation, dropout can be thought of as a method of making bagging practical for ensembles of very many large neural networks. Bagging involves training multiple models and evaluating multiple models on each test example. Dropout provides an inexpensive approximation to training and evaluating a bagged ensemble of exponentially many neural networks.\n",
    "\n",
    "Dropout trains an ensemble consisting if all subnetworks that can be constructed by removing nonoutput units from an underlying base network. With a base network with two visible units (i.e., the inputs) and two hidden units, there are 16 possible subsets of these four units. In this small example, a large proportion of the resulting networks have no input units or no path connecting the input to the output. This problem becomes insignificant for networks with wider layers, where the probability of dropping all possible paths from inputs to outputs becomes smaller.\n",
    "\n",
    "In most modern neural networks, based on a series of affine transformations and nonlinearities, we can effectively remove a unit from a network by multiplying its output value by zero. \n",
    "\n",
    "Recall that to learn with bagging, we define $k$ different models, construct $k$ different datasets by sampling from the training set with replacement, and then train model $i$ on dataset $i$. To train with dropout, we use a minibatch-based learning algorithm that makes small steps, such as stochastic gradient descent. Each time we load an example into a minibatch, we randomly sample a different binary mask to apply to all the input and hidden units in the network. The probability of sampling a mask value of one (causing a unit to be included) is a hyperparameter fixed before training begins. Typically, an input unit is included with probability 0.8, and a hidden unit is included with probability 0.5.\n",
    "\n",
    "More formally, suppose that a mask vector $\\vec {\\mu}$ specifies which units to include, and $J(\\vec {\\theta}, \\vec {\\mu})$ defines the cost of the model defined by parameters $\\vec{\\theta}$ and mask $\\vec {\\mu}$. Then dropout training consists of minimizing $\\mathbb{E}_{\\vec {\\mu}} J(\\vec {\\theta}, \\vec {\\mu}) $. The expectation contains exponentially many terms, but we can obtain an unbiased estimate of its gradient by sampling values of $\\vec {\\mu}$. "
   ]
  },
  {
   "cell_type": "markdown",
   "metadata": {},
   "source": [
    "To make a prediction, a bagged ensemble must accumulate votes from all its members. We refer to this process as **inference** in this context. \n",
    "\n",
    "We assume that that the model's role is to output a probability distribution. Each submodel defined by mask vector $\\vec {\\mu}$ defines a probability distribution $p(y ~ | ~ \\vec x , ~ \\vec{\\mu})$. The arithmetic mean over all masks is given by\n",
    "\n",
    "$$ \\sum_{\\vec {\\mu}} p(\\vec {\\mu}) ~ p(y ~ | ~ \\vec x, ~ \\vec {\\mu})$$\n",
    "\n",
    "where $p(\\vec {\\mu})$ is the probability distribution that was used to sample $\\vec {\\mu}$ at training time.\n",
    "\n",
    "Because the sum includes an exponential number of terms, it is in general intractable. Instead, we can approximate the inference with sampling, by averaging together the output of many masks. Even 10-20 masks are often sufficient to obtain good performance.\n",
    "\n",
    "A key insight [(Hinton, 2012)](https://arxiv.org/pdf/1207.0580.pdf) involved in dropout is that we can approximate $p_{\\text {ensemble}}$ by evaluating $p(y ~ | ~ \\vec x)$ in one model: the model with all units, but with the weights going out of unit $i$ multiplied by the probability of including unit $i$. The motivation for this modification is to capture the right expected value of the output from that unit. We call this approach the **weight scaling inference rule** . Because we usually use an inclusion probability of $\\frac 1 2$, the weight scaling rule usually amounts to dividing the weights by 2 at the end of training, and then using the model as usual.\n",
    "\n",
    "It is important to understand that a large portion of the power of dropout arises because dropout can be seen as a form of highly intelligent, adaptive destruction of the information content of the input rather than destruction of the raw values of the input. For example, if the mofel learns a hidden unit that detects a face by finding the nose, then dropping that hidden unit corresponds to erasing the information that there is a nose in the image. The model must learn another feature, that either redundantly encodes the presence of a nose or detects the face by another feature, such as the mouth. Traditional noise injection techniques that add unstructured noise at the input are not able to randomly erase information about a nose from an image of a face unless the magnitude of the noise is so great that nearly all the information in the image is removed."
   ]
  },
  {
   "cell_type": "code",
   "execution_count": 146,
   "metadata": {},
   "outputs": [
    {
     "name": "stdout",
     "output_type": "stream",
     "text": [
      "0 517.267211914\n",
      "10000 41.4759674072\n",
      "20000 27.296754837\n",
      "30000 51.1579551697\n",
      "40000 47.6874885559\n",
      "50000 51.4489631653\n",
      "60000 56.8360404968\n",
      "70000 108.59538269\n",
      "80000 61.7290687561\n",
      "90000 39.4688568115\n",
      "final loss 17.4539051056\n"
     ]
    },
    {
     "data": {
      "image/png": "[encoded data removed]",
      "text/plain": [
       "<matplotlib.figure.Figure at 0x109661b90>"
      ]
     },
     "metadata": {},
     "output_type": "display_data"
    }
   ],
   "source": [
    "torch.manual_seed(133)\n",
    "\n",
    "model = torch.nn.Sequential(\n",
    "    torch.nn.Linear(1,12),\n",
    "    torch.nn.Sigmoid(),\n",
    "    torch.nn.Dropout(0.6),\n",
    "    torch.nn.Linear(12,1)\n",
    ")\n",
    "\n",
    "x_t = torch.tensor(x, device=device, dtype = dtype)\n",
    "y_t = torch.tensor(y, device=device, dtype = dtype)\n",
    "loss_fn = torch.nn.MSELoss(reduction='sum')\n",
    "\n",
    "optimizer = torch.optim.SGD(model.parameters(), lr=1e-3, weight_decay=0.0, momentum = 0.9)\n",
    "\n",
    "model.train()\n",
    "for t in range(100000):\n",
    "\n",
    "    y_pred = model(x_t)\n",
    "    \n",
    "    loss = loss_fn(y_pred, y_t)\n",
    "    if t%10000 == 0:\n",
    "        print t, loss.item()\n",
    "    \n",
    "    optimizer.zero_grad()\n",
    "    loss.backward()\n",
    "    optimizer.step()\n",
    "    \n",
    "\n",
    "model.eval()   \n",
    "y_pred = model(x_t)\n",
    "loss = loss_fn(y_pred, y_t)\n",
    "print \"final loss\", loss.item()\n",
    "    \n",
    "x_test = np.array([np.arange(100)/100.0]).T\n",
    "x_pred = torch.tensor(x_test, device=device, dtype = dtype)\n",
    "y_pred = model(x_pred)\n",
    "scatter(x_pred[:,0].tolist(),y_pred[:,0].tolist())\n",
    "scatter(x[:,0],y[:,0], color=\"r\");"
   ]
  },
  {
   "cell_type": "code",
   "execution_count": null,
   "metadata": {
    "collapsed": true
   },
   "outputs": [],
   "source": []
  }
 ],
 "metadata": {
  "kernelspec": {
   "display_name": "Python 2",
   "language": "python",
   "name": "python2"
  },
  "language_info": {
   "codemirror_mode": {
    "name": "ipython",
    "version": 2
   },
   "file_extension": ".py",
   "mimetype": "text/x-python",
   "name": "python",
   "nbconvert_exporter": "python",
   "pygments_lexer": "ipython2",
   "version": "2.7.15"
  }
 },
 "nbformat": 4,
 "nbformat_minor": 2
}
