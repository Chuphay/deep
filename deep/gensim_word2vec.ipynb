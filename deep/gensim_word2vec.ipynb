{
 "cells": [
  {
   "cell_type": "code",
   "execution_count": 1,
   "metadata": {
    "collapsed": true
   },
   "outputs": [],
   "source": [
    "from gensim.models import Word2Vec\n",
    "import logging\n",
    "logging.basicConfig(format='%(asctime)s : %(levelname)s : %(message)s', level=logging.INFO)"
   ]
  },
  {
   "cell_type": "code",
   "execution_count": 2,
   "metadata": {
    "collapsed": true
   },
   "outputs": [],
   "source": [
    "sentences = [\"My dog ate the food\",\n",
    "             \"my cat ate the food\",\n",
    "             \"his cat drank the water\", \n",
    "             \"his dog drank the water\",\n",
    "             \"her cat drank the water\", \n",
    "             \"her fish drank the water\",\n",
    "             \"our fish ate the food\",\n",
    "             \"your fish drank the drink\",\n",
    "             \"our dog ate the food\",\n",
    "             \"your cat drank the drink\"]\n",
    "from gensim.utils import simple_preprocess"
   ]
  },
  {
   "cell_type": "code",
   "execution_count": 3,
   "metadata": {},
   "outputs": [
    {
     "name": "stdout",
     "output_type": "stream",
     "text": [
      "[[u'my', u'dog', u'ate', u'the', u'food'], [u'my', u'cat', u'ate', u'the', u'food'], [u'his', u'cat', u'drank', u'the', u'water'], [u'his', u'dog', u'drank', u'the', u'water'], [u'her', u'cat', u'drank', u'the', u'water'], [u'her', u'fish', u'drank', u'the', u'water'], [u'our', u'fish', u'ate', u'the', u'food'], [u'your', u'fish', u'drank', u'the', u'drink'], [u'our', u'dog', u'ate', u'the', u'food'], [u'your', u'cat', u'drank', u'the', u'drink']]\n"
     ]
    }
   ],
   "source": [
    "corpus = [simple_preprocess(sentence) for sentence in sentences]\n",
    "print corpus"
   ]
  },
  {
   "cell_type": "code",
   "execution_count": 12,
   "metadata": {},
   "outputs": [
    {
     "name": "stderr",
     "output_type": "stream",
     "text": [
      "2018-08-31 16:23:24,731 : WARNING : consider setting layer size to a multiple of 4 for greater performance\n",
      "2018-08-31 16:23:24,732 : INFO : collecting all words and their counts\n",
      "2018-08-31 16:23:24,733 : INFO : PROGRESS: at sentence #0, processed 0 words, keeping 0 word types\n",
      "2018-08-31 16:23:24,733 : INFO : collected 14 word types from a corpus of 50 raw words and 10 sentences\n",
      "2018-08-31 16:23:24,734 : INFO : Loading a fresh vocabulary\n",
      "2018-08-31 16:23:24,735 : INFO : min_count=1 retains 14 unique words (100% of original 14, drops 0)\n",
      "2018-08-31 16:23:24,735 : INFO : min_count=1 leaves 50 word corpus (100% of original 50, drops 0)\n",
      "2018-08-31 16:23:24,736 : INFO : deleting the raw counts dictionary of 14 items\n",
      "2018-08-31 16:23:24,737 : INFO : sample=0.001 downsamples 14 most-common words\n",
      "2018-08-31 16:23:24,737 : INFO : downsampling leaves estimated 6 word corpus (12.8% of prior 50)\n",
      "2018-08-31 16:23:24,738 : INFO : estimated required memory for 14 words and 10 dimensions: 8120 bytes\n",
      "2018-08-31 16:23:24,739 : INFO : resetting layer weights\n",
      "2018-08-31 16:23:24,740 : INFO : training model with 3 workers on 14 vocabulary and 10 features, using sg=0 hs=0 sample=0.001 negative=5 window=3\n",
      "2018-08-31 16:23:24,741 : INFO : worker thread finished; awaiting finish of 2 more threads\n",
      "2018-08-31 16:23:24,742 : INFO : worker thread finished; awaiting finish of 1 more threads\n",
      "2018-08-31 16:23:24,743 : INFO : worker thread finished; awaiting finish of 0 more threads\n",
      "2018-08-31 16:23:24,744 : INFO : training on 250 raw words (30 effective words) took 0.0s, 12573 effective words/s\n",
      "2018-08-31 16:23:24,744 : WARNING : under 10 jobs per worker: consider setting a smaller `batch_words' for smoother alpha decay\n"
     ]
    }
   ],
   "source": [
    "model = Word2Vec(corpus, min_count = 1, window = 3, size = 10)"
   ]
  },
  {
   "cell_type": "code",
   "execution_count": 13,
   "metadata": {},
   "outputs": [
    {
     "data": {
      "image/png": "[encoded data removed]",
      "text/plain": [
       "<matplotlib.figure.Figure at 0x10ee85990>"
      ]
     },
     "metadata": {},
     "output_type": "display_data"
    }
   ],
   "source": [
    "from sklearn.decomposition import PCA\n",
    "from matplotlib import pyplot\n",
    "\n",
    "# fit a 2d PCA model to the vectors\n",
    "X = model[model.wv.vocab]\n",
    "pca = PCA(n_components=2)\n",
    "result = pca.fit_transform(X)\n",
    "# create a scatter plot of the projection\n",
    "pyplot.scatter(result[:, 0], result[:, 1])\n",
    "words = list(model.wv.vocab)\n",
    "for i, word in enumerate(words):\n",
    "    pyplot.annotate(word, xy=(result[i, 0], result[i, 1]))\n",
    "pyplot.show()"
   ]
  },
  {
   "cell_type": "code",
   "execution_count": 15,
   "metadata": {},
   "outputs": [
    {
     "data": {
      "text/plain": [
       "0.2857181517089141"
      ]
     },
     "execution_count": 15,
     "metadata": {},
     "output_type": "execute_result"
    }
   ],
   "source": [
    "model.similarity('cat', 'dog')"
   ]
  },
  {
   "cell_type": "code",
   "execution_count": 16,
   "metadata": {},
   "outputs": [
    {
     "name": "stderr",
     "output_type": "stream",
     "text": [
      "2018-08-31 16:23:40,515 : INFO : precomputing L2-norms of word weight vectors\n"
     ]
    },
    {
     "data": {
      "text/plain": [
       "[(u'his', 0.33836671710014343),\n",
       " (u'ate', 0.3089873194694519),\n",
       " (u'dog', 0.2857181429862976),\n",
       " (u'her', 0.24597755074501038),\n",
       " (u'food', 0.22061876952648163),\n",
       " (u'my', 0.13203389942646027),\n",
       " (u'drank', 0.10320447385311127),\n",
       " (u'the', 0.044319577515125275),\n",
       " (u'our', -0.09992600232362747),\n",
       " (u'fish', -0.22246791422367096)]"
      ]
     },
     "execution_count": 16,
     "metadata": {},
     "output_type": "execute_result"
    }
   ],
   "source": [
    "model.most_similar(\"cat\")"
   ]
  },
  {
   "cell_type": "code",
   "execution_count": 17,
   "metadata": {},
   "outputs": [
    {
     "data": {
      "text/plain": [
       "[(u'drank', 0.3942320644855499),\n",
       " (u'cat', 0.2857181429862976),\n",
       " (u'his', 0.2756260633468628),\n",
       " (u'food', 0.2388916164636612),\n",
       " (u'your', 0.1576523631811142),\n",
       " (u'the', 0.13757403194904327),\n",
       " (u'ate', 0.09862376749515533),\n",
       " (u'drink', 0.0795629546046257),\n",
       " (u'fish', -0.03772730007767677),\n",
       " (u'our', -0.14649657905101776)]"
      ]
     },
     "execution_count": 17,
     "metadata": {},
     "output_type": "execute_result"
    }
   ],
   "source": [
    "model.most_similar(\"dog\")"
   ]
  },
  {
   "cell_type": "code",
   "execution_count": null,
   "metadata": {
    "collapsed": true
   },
   "outputs": [],
   "source": []
  },
  {
   "cell_type": "code",
   "execution_count": null,
   "metadata": {
    "collapsed": true
   },
   "outputs": [],
   "source": []
  }
 ],
 "metadata": {
  "kernelspec": {
   "display_name": "Python 2",
   "language": "python",
   "name": "python2"
  },
  "language_info": {
   "codemirror_mode": {
    "name": "ipython",
    "version": 2
   },
   "file_extension": ".py",
   "mimetype": "text/x-python",
   "name": "python",
   "nbconvert_exporter": "python",
   "pygments_lexer": "ipython2",
   "version": "2.7.15"
  }
 },
 "nbformat": 4,
 "nbformat_minor": 2
}
